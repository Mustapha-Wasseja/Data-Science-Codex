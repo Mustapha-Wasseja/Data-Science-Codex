{
 "cells": [
  {
   "cell_type": "markdown",
   "metadata": {},
   "source": [
    "Analyze state of the union addresses. \n",
    "Data source: https://en.wikisource.org/wiki/Portal:State_of_the_Union_Speeches_by_United_States_Presidents\n",
    "scrape the text of all speeches and then maybe try to find patterns of speech of each president?"
   ]
  },
  {
   "cell_type": "markdown",
   "metadata": {},
   "source": [
    "https://nlp.stanford.edu/IR-book/html/htmledition/sublinear-tf-scaling-1.html \n",
    "https://www.oreilly.com/library/view/applied-text-analysis/9781491963036/ch04.html "
   ]
  },
  {
   "cell_type": "markdown",
   "metadata": {},
   "source": [
    "## Setup"
   ]
  },
  {
   "cell_type": "code",
   "execution_count": 29,
   "metadata": {},
   "outputs": [],
   "source": [
    "from bs4 import BeautifulSoup\n",
    "import requests\n",
    "import pandas as pd\n",
    "import urllib.request\n",
    "import re\n",
    "import numpy as np\n",
    "import seaborn as sns\n",
    "import matplotlib.pyplot as plt\n",
    "import spacy\n",
    "import time\n",
    "from sklearn.neighbors import NearestNeighbors\n",
    "from sklearn.preprocessing import StandardScaler\n",
    "from sklearn.cluster import AgglomerativeClustering\n",
    "import scipy.cluster.hierarchy as sch\n",
    "\n",
    "# Data source we are going to scrape for results\n",
    "data_url = 'https://en.wikisource.org/wiki/Portal:State_of_the_Union_Speeches_by_United_States_Presidents'\n",
    "\n",
    "link_list = []\n",
    "\n",
    "# extract the text of a speech from a URL\n",
    "# text is extracted in a list of paragraphs (strings) for each speech\n",
    "def get_speech(url):\n",
    "    return([ p.text.strip() for p in BeautifulSoup(urllib.request.urlopen(url)).find_all(\"p\") if \\\n",
    "             'This work is in the public domain in the United States because it is a work of the United States federal government' \\\n",
    "             not in p.text.strip()])\n",
    "\n",
    "# Make a frequency count by distinct values of \n",
    "# column(s) listed in 'groupbyvars'\n",
    "# Returns pandas dataframe\n",
    "def tidy_count(df,groupbyvars):\n",
    "    return(df.groupby(groupbyvars).size().reset_index().\\\n",
    "        rename(columns={0: \"n\"}).sort_values('n',ascending=False).reset_index(drop=True))"
   ]
  },
  {
   "cell_type": "markdown",
   "metadata": {},
   "source": [
    "## Web Scraping"
   ]
  },
  {
   "cell_type": "code",
   "execution_count": 2,
   "metadata": {},
   "outputs": [],
   "source": [
    "resp = urllib.request.urlopen(data_url)\n",
    "soup = BeautifulSoup(resp, from_encoding=resp.info().get_param('charset'))\n",
    "\n",
    "# Get all links to state of the union addresses from \n",
    "for link in soup.find_all('a', href=True):\n",
    "    if \"union_address\" in link['href'].lower() or \"union_speech\" in link['href'].lower() \\\n",
    "        and \"portal\" not in link['href'].lower() and \"#\" not in link['href'].lower():\n",
    "        link_list.append(link['href'])\n",
    "\n",
    "# Note that I am storing these speeches as lists of paragraphs (strings) for readability\n",
    "speeches = [get_speech('https://en.wikisource.org' + link) for link in link_list]\n",
    "# Extract presidents names from link text\n",
    "presidents = [ link.replace('%','/').split('/')[2].replace('_',' ') for link in link_list ]\n",
    "\n",
    "# Extract state of the union text entries so we can extract the date\n",
    "sou_entries = []\n",
    "for item in soup.find_all('li'):\n",
    "    if 'union' in item.text.strip().lower() and '(' in  item.text.strip().lower():\n",
    "        sou_entries.append(item.text.strip())\n",
    "\n",
    "speeches_pd = pd.DataFrame({\n",
    "                'president' : presidents,\n",
    "                'speech' : speeches,\n",
    "                'year' : [int(re.findall('\\d+',item)[1]) for item in sou_entries ]} )"
   ]
  },
  {
   "cell_type": "code",
   "execution_count": 3,
   "metadata": {},
   "outputs": [
    {
     "data": {
      "text/plain": [
       "232"
      ]
     },
     "execution_count": 3,
     "metadata": {},
     "output_type": "execute_result"
    }
   ],
   "source": [
    "len(speeches_pd)"
   ]
  },
  {
   "cell_type": "code",
   "execution_count": 4,
   "metadata": {},
   "outputs": [
    {
     "data": {
      "text/html": [
       "<div>\n",
       "<style scoped>\n",
       "    .dataframe tbody tr th:only-of-type {\n",
       "        vertical-align: middle;\n",
       "    }\n",
       "\n",
       "    .dataframe tbody tr th {\n",
       "        vertical-align: top;\n",
       "    }\n",
       "\n",
       "    .dataframe thead th {\n",
       "        text-align: right;\n",
       "    }\n",
       "</style>\n",
       "<table border=\"1\" class=\"dataframe\">\n",
       "  <thead>\n",
       "    <tr style=\"text-align: right;\">\n",
       "      <th></th>\n",
       "      <th>president</th>\n",
       "      <th>speech</th>\n",
       "      <th>year</th>\n",
       "    </tr>\n",
       "  </thead>\n",
       "  <tbody>\n",
       "    <tr>\n",
       "      <th>175</th>\n",
       "      <td>John F. Kennedy</td>\n",
       "      <td>[Mr. Vice President, Mr. Speaker, Members of t...</td>\n",
       "      <td>1963</td>\n",
       "    </tr>\n",
       "    <tr>\n",
       "      <th>5</th>\n",
       "      <td>George Washington</td>\n",
       "      <td>[Fellow Citizens of the Senate and of the Hous...</td>\n",
       "      <td>1794</td>\n",
       "    </tr>\n",
       "    <tr>\n",
       "      <th>211</th>\n",
       "      <td>Bill Clinton</td>\n",
       "      <td>[Mr. Speaker, Mr. Vice President, members of C...</td>\n",
       "      <td>1999</td>\n",
       "    </tr>\n",
       "    <tr>\n",
       "      <th>70</th>\n",
       "      <td>James Buchanan</td>\n",
       "      <td>[Fellow-Citizens of the Senate and House of Re...</td>\n",
       "      <td>1859</td>\n",
       "    </tr>\n",
       "    <tr>\n",
       "      <th>105</th>\n",
       "      <td>Grover Cleveland</td>\n",
       "      <td>[, To the Congress of the United States:, The ...</td>\n",
       "      <td>1894</td>\n",
       "    </tr>\n",
       "  </tbody>\n",
       "</table>\n",
       "</div>"
      ],
      "text/plain": [
       "             president                                             speech  \\\n",
       "175    John F. Kennedy  [Mr. Vice President, Mr. Speaker, Members of t...   \n",
       "5    George Washington  [Fellow Citizens of the Senate and of the Hous...   \n",
       "211       Bill Clinton  [Mr. Speaker, Mr. Vice President, members of C...   \n",
       "70      James Buchanan  [Fellow-Citizens of the Senate and House of Re...   \n",
       "105   Grover Cleveland  [, To the Congress of the United States:, The ...   \n",
       "\n",
       "     year  \n",
       "175  1963  \n",
       "5    1794  \n",
       "211  1999  \n",
       "70   1859  \n",
       "105  1894  "
      ]
     },
     "execution_count": 4,
     "metadata": {},
     "output_type": "execute_result"
    }
   ],
   "source": [
    "#speeches_pd['speech_num'] = speeches_pd.index # for joining\n",
    "speeches_pd.sample(n=5)"
   ]
  },
  {
   "cell_type": "markdown",
   "metadata": {},
   "source": [
    "## Preprocessing"
   ]
  },
  {
   "cell_type": "markdown",
   "metadata": {},
   "source": [
    "Clean text (remove stop words, convert to lower case, remove non-alphabetic text, and lemmatize"
   ]
  },
  {
   "cell_type": "code",
   "execution_count": 5,
   "metadata": {},
   "outputs": [],
   "source": [
    "nlp = spacy.load('en_core_web_lg', disable=['parser', 'ner']) # disabling the parser makes it run faster\n",
    "#nlp = spacy.load('en_core_web_lg',disable=['parser', 'ner'])\n",
    "\n",
    "# Workaround for stopwords bug in en_core_web_lg model\n",
    "for word in nlp.Defaults.stop_words:\n",
    "    lex = nlp.vocab[word]\n",
    "    lex.is_stop = True\n",
    "\n",
    "# Preprocess pipeline with spacy. \n",
    "def spacy_preprocess(text): \n",
    "    text_out = []\n",
    "    for token in nlp(text.lower()):\n",
    "        # Get rid of stop words and non-alphanumeric\n",
    "        if not token.is_stop and token.is_alpha and len(token)>1:\n",
    "                text_out.append(token.text)            \n",
    "    return(nlp(\" \".join(text_out)))"
   ]
  },
  {
   "cell_type": "code",
   "execution_count": 6,
   "metadata": {},
   "outputs": [],
   "source": [
    "# Print stop words\n",
    "#print(nlp.Defaults.stop_words)"
   ]
  },
  {
   "cell_type": "code",
   "execution_count": 7,
   "metadata": {},
   "outputs": [
    {
     "name": "stdout",
     "output_type": "stream",
     "text": [
      "False\n",
      "True\n",
      "False\n"
     ]
    }
   ],
   "source": [
    "for token in nlp('The the weather'):\n",
    "    print(token.is_stop)"
   ]
  },
  {
   "cell_type": "code",
   "execution_count": 8,
   "metadata": {},
   "outputs": [
    {
     "data": {
      "text/plain": [
       "dog ran bob saw squirrels"
      ]
     },
     "execution_count": 8,
     "metadata": {},
     "output_type": "execute_result"
    }
   ],
   "source": [
    "# test spacy preprocessing\n",
    "spacy_preprocess('The dog ran into Bob beCause he saw 234 squirrels under VAU15')"
   ]
  },
  {
   "cell_type": "markdown",
   "metadata": {},
   "source": [
    "## Vectorize Speeches"
   ]
  },
  {
   "cell_type": "markdown",
   "metadata": {},
   "source": [
    "Use spacy's inbuilt embedding model to vectorize our speeches "
   ]
  },
  {
   "cell_type": "code",
   "execution_count": 9,
   "metadata": {},
   "outputs": [
    {
     "name": "stdout",
     "output_type": "stream",
     "text": [
      "Preprocessing time elapsed: 145.2654333114624\n"
     ]
    }
   ],
   "source": [
    "# Each speech is stored as a list of paragraph strings. \n",
    "# Here we join the paragraphs into a single speech string\n",
    "speech_list = [\" \".join(speech) for speech in speeches_pd['speech'].tolist() ]\n",
    "\n",
    "## Pre-process and tokenize our speeches\n",
    "t0 = time.time()\n",
    "\n",
    "speeches_embed = np.array([ spacy_preprocess(speech).vector for speech in speech_list])\n",
    "\n",
    "print('Preprocessing time elapsed: ' + str(time.time()-t0))"
   ]
  },
  {
   "cell_type": "markdown",
   "metadata": {},
   "source": [
    "Do a k-nearest neighbors search to find similar speeches"
   ]
  },
  {
   "cell_type": "code",
   "execution_count": 12,
   "metadata": {},
   "outputs": [],
   "source": [
    "# Find the closest X points\n",
    "# we will find all other points in the dataset\n",
    "k_search_dist = len(speeches_embed) -1"
   ]
  },
  {
   "cell_type": "code",
   "execution_count": 21,
   "metadata": {},
   "outputs": [
    {
     "name": "stdout",
     "output_type": "stream",
     "text": [
      "k-nearest search time elapsed: 0.032079219818115234\n"
     ]
    }
   ],
   "source": [
    "t0 = time.time()\n",
    "\n",
    "# Scale document vectors (maybe not necessary?)\n",
    "#speechvec_scaler = StandardScaler() # initialize scaler\n",
    "#speeches_scaled = speechvec_scaler.fit_transform(speeches_embed)\n",
    "\n",
    "kn_model = NearestNeighbors()\n",
    "kn_model.fit(speeches_embed)\n",
    "\n",
    "# find X most similar speeches for each speech\n",
    "# We add 1 to k since each speech will be most similar to itself (and we remove that result)\n",
    "dist_speeches, sim_speeches = kn_model.kneighbors(speeches_embed,k_search_dist+1)\n",
    "\n",
    "print('k-nearest search time elapsed: ' + str(time.time()-t0))"
   ]
  },
  {
   "cell_type": "code",
   "execution_count": 22,
   "metadata": {},
   "outputs": [],
   "source": [
    "# Story nump arrays in pandas\n",
    "dist_speeches_pd =pd.DataFrame(dist_speeches)\n",
    "dist_speeches_pd.insert(0,'speech_num',speeches_pd.index)\n",
    "\n",
    "sim_speeches_pd =pd.DataFrame(sim_speeches)\n",
    "sim_speeches_pd.insert(0,'speech_num',speeches_pd.index)"
   ]
  },
  {
   "cell_type": "code",
   "execution_count": 23,
   "metadata": {},
   "outputs": [],
   "source": [
    "dist_matrix = pd.melt(dist_speeches_pd,\n",
    "    id_vars=['speech_num'],value_vars=list(range(0,k_search_dist+1))).\\\n",
    "    rename({'variable':'rank','value': 'distance'},axis='columns')\n",
    "\n",
    "sim_matrix = pd.melt(sim_speeches_pd,\n",
    "    id_vars=['speech_num'],value_vars=list(range(0,k_search_dist+1))).\\\n",
    "    rename({'variable': 'rank','value':'speech_num_match'},axis='columns')"
   ]
  },
  {
   "cell_type": "markdown",
   "metadata": {},
   "source": [
    "Show the most 'similar' state of the union speeches according to spacy document embeddings"
   ]
  },
  {
   "cell_type": "code",
   "execution_count": 24,
   "metadata": {},
   "outputs": [],
   "source": [
    "# Only keep one unique pair of matches and don't keep rows that match the same speech to itself\n",
    "simdist_matrix = sim_matrix[(sim_matrix['speech_num'] != sim_matrix['speech_num_match']) & \\\n",
    "                        (sim_matrix['speech_num'] < sim_matrix['speech_num_match'])].\\\n",
    "    merge(dist_matrix,on=['speech_num','rank']).\\\n",
    "    merge(speeches_pd[['president','year']],left_on='speech_num',right_index=True).\\\n",
    "    merge(speeches_pd[['president','year']],left_on='speech_num_match',right_index=True,suffixes=['','_match']).\\\n",
    "    sort_values('distance')"
   ]
  },
  {
   "cell_type": "markdown",
   "metadata": {},
   "source": [
    "The most similar speeches"
   ]
  },
  {
   "cell_type": "code",
   "execution_count": 25,
   "metadata": {},
   "outputs": [
    {
     "data": {
      "text/html": [
       "<div>\n",
       "<style scoped>\n",
       "    .dataframe tbody tr th:only-of-type {\n",
       "        vertical-align: middle;\n",
       "    }\n",
       "\n",
       "    .dataframe tbody tr th {\n",
       "        vertical-align: top;\n",
       "    }\n",
       "\n",
       "    .dataframe thead th {\n",
       "        text-align: right;\n",
       "    }\n",
       "</style>\n",
       "<table border=\"1\" class=\"dataframe\">\n",
       "  <thead>\n",
       "    <tr style=\"text-align: right;\">\n",
       "      <th></th>\n",
       "      <th>speech_num</th>\n",
       "      <th>rank</th>\n",
       "      <th>speech_num_match</th>\n",
       "      <th>distance</th>\n",
       "      <th>president</th>\n",
       "      <th>year</th>\n",
       "      <th>president_match</th>\n",
       "      <th>year_match</th>\n",
       "    </tr>\n",
       "  </thead>\n",
       "  <tbody>\n",
       "    <tr>\n",
       "      <th>58</th>\n",
       "      <td>97</td>\n",
       "      <td>1</td>\n",
       "      <td>99</td>\n",
       "      <td>0.144490</td>\n",
       "      <td>Grover Cleveland</td>\n",
       "      <td>1886</td>\n",
       "      <td>Grover Cleveland</td>\n",
       "      <td>1888</td>\n",
       "    </tr>\n",
       "    <tr>\n",
       "      <th>40</th>\n",
       "      <td>66</td>\n",
       "      <td>1</td>\n",
       "      <td>67</td>\n",
       "      <td>0.161351</td>\n",
       "      <td>Franklin Pierce</td>\n",
       "      <td>1855</td>\n",
       "      <td>Franklin Pierce</td>\n",
       "      <td>1856</td>\n",
       "    </tr>\n",
       "    <tr>\n",
       "      <th>57</th>\n",
       "      <td>96</td>\n",
       "      <td>1</td>\n",
       "      <td>97</td>\n",
       "      <td>0.162432</td>\n",
       "      <td>Grover Cleveland</td>\n",
       "      <td>1885</td>\n",
       "      <td>Grover Cleveland</td>\n",
       "      <td>1886</td>\n",
       "    </tr>\n",
       "    <tr>\n",
       "      <th>91</th>\n",
       "      <td>166</td>\n",
       "      <td>1</td>\n",
       "      <td>167</td>\n",
       "      <td>0.165062</td>\n",
       "      <td>Dwight D. Eisenhower</td>\n",
       "      <td>1955</td>\n",
       "      <td>Dwight D. Eisenhower</td>\n",
       "      <td>1956</td>\n",
       "    </tr>\n",
       "    <tr>\n",
       "      <th>55</th>\n",
       "      <td>92</td>\n",
       "      <td>1</td>\n",
       "      <td>96</td>\n",
       "      <td>0.175330</td>\n",
       "      <td>Chester A. Arthur</td>\n",
       "      <td>1881</td>\n",
       "      <td>Grover Cleveland</td>\n",
       "      <td>1885</td>\n",
       "    </tr>\n",
       "  </tbody>\n",
       "</table>\n",
       "</div>"
      ],
      "text/plain": [
       "    speech_num rank  speech_num_match  distance             president  year  \\\n",
       "58          97    1                99  0.144490      Grover Cleveland  1886   \n",
       "40          66    1                67  0.161351       Franklin Pierce  1855   \n",
       "57          96    1                97  0.162432      Grover Cleveland  1885   \n",
       "91         166    1               167  0.165062  Dwight D. Eisenhower  1955   \n",
       "55          92    1                96  0.175330     Chester A. Arthur  1881   \n",
       "\n",
       "         president_match  year_match  \n",
       "58      Grover Cleveland        1888  \n",
       "40       Franklin Pierce        1856  \n",
       "57      Grover Cleveland        1886  \n",
       "91  Dwight D. Eisenhower        1956  \n",
       "55      Grover Cleveland        1885  "
      ]
     },
     "execution_count": 25,
     "metadata": {},
     "output_type": "execute_result"
    }
   ],
   "source": [
    "simdist_matrix.head(5)"
   ]
  },
  {
   "cell_type": "markdown",
   "metadata": {},
   "source": [
    "Now let's eliminate cases where the president is the same "
   ]
  },
  {
   "cell_type": "code",
   "execution_count": 26,
   "metadata": {},
   "outputs": [
    {
     "data": {
      "text/html": [
       "<div>\n",
       "<style scoped>\n",
       "    .dataframe tbody tr th:only-of-type {\n",
       "        vertical-align: middle;\n",
       "    }\n",
       "\n",
       "    .dataframe tbody tr th {\n",
       "        vertical-align: top;\n",
       "    }\n",
       "\n",
       "    .dataframe thead th {\n",
       "        text-align: right;\n",
       "    }\n",
       "</style>\n",
       "<table border=\"1\" class=\"dataframe\">\n",
       "  <thead>\n",
       "    <tr style=\"text-align: right;\">\n",
       "      <th></th>\n",
       "      <th>speech_num</th>\n",
       "      <th>rank</th>\n",
       "      <th>speech_num_match</th>\n",
       "      <th>distance</th>\n",
       "      <th>president</th>\n",
       "      <th>year</th>\n",
       "      <th>president_match</th>\n",
       "      <th>year_match</th>\n",
       "    </tr>\n",
       "  </thead>\n",
       "  <tbody>\n",
       "    <tr>\n",
       "      <th>55</th>\n",
       "      <td>92</td>\n",
       "      <td>1</td>\n",
       "      <td>96</td>\n",
       "      <td>0.175330</td>\n",
       "      <td>Chester A. Arthur</td>\n",
       "      <td>1881</td>\n",
       "      <td>Grover Cleveland</td>\n",
       "      <td>1885</td>\n",
       "    </tr>\n",
       "    <tr>\n",
       "      <th>187</th>\n",
       "      <td>92</td>\n",
       "      <td>2</td>\n",
       "      <td>99</td>\n",
       "      <td>0.184178</td>\n",
       "      <td>Chester A. Arthur</td>\n",
       "      <td>1881</td>\n",
       "      <td>Grover Cleveland</td>\n",
       "      <td>1888</td>\n",
       "    </tr>\n",
       "    <tr>\n",
       "      <th>54</th>\n",
       "      <td>91</td>\n",
       "      <td>1</td>\n",
       "      <td>100</td>\n",
       "      <td>0.184329</td>\n",
       "      <td>Rutherford B. Hayes</td>\n",
       "      <td>1880</td>\n",
       "      <td>Benjamin Harrison</td>\n",
       "      <td>1889</td>\n",
       "    </tr>\n",
       "    <tr>\n",
       "      <th>305</th>\n",
       "      <td>92</td>\n",
       "      <td>3</td>\n",
       "      <td>97</td>\n",
       "      <td>0.184390</td>\n",
       "      <td>Chester A. Arthur</td>\n",
       "      <td>1881</td>\n",
       "      <td>Grover Cleveland</td>\n",
       "      <td>1886</td>\n",
       "    </tr>\n",
       "    <tr>\n",
       "      <th>439</th>\n",
       "      <td>96</td>\n",
       "      <td>4</td>\n",
       "      <td>100</td>\n",
       "      <td>0.187086</td>\n",
       "      <td>Grover Cleveland</td>\n",
       "      <td>1885</td>\n",
       "      <td>Benjamin Harrison</td>\n",
       "      <td>1889</td>\n",
       "    </tr>\n",
       "  </tbody>\n",
       "</table>\n",
       "</div>"
      ],
      "text/plain": [
       "     speech_num rank  speech_num_match  distance            president  year  \\\n",
       "55           92    1                96  0.175330    Chester A. Arthur  1881   \n",
       "187          92    2                99  0.184178    Chester A. Arthur  1881   \n",
       "54           91    1               100  0.184329  Rutherford B. Hayes  1880   \n",
       "305          92    3                97  0.184390    Chester A. Arthur  1881   \n",
       "439          96    4               100  0.187086     Grover Cleveland  1885   \n",
       "\n",
       "       president_match  year_match  \n",
       "55    Grover Cleveland        1885  \n",
       "187   Grover Cleveland        1888  \n",
       "54   Benjamin Harrison        1889  \n",
       "305   Grover Cleveland        1886  \n",
       "439  Benjamin Harrison        1889  "
      ]
     },
     "execution_count": 26,
     "metadata": {},
     "output_type": "execute_result"
    }
   ],
   "source": [
    "simdist_matrix[simdist_matrix['president'] != simdist_matrix['president_match']].head(5)"
   ]
  },
  {
   "cell_type": "markdown",
   "metadata": {},
   "source": [
    "Most similar speeches to speeches occuring since 1950"
   ]
  },
  {
   "cell_type": "code",
   "execution_count": 27,
   "metadata": {},
   "outputs": [
    {
     "data": {
      "text/html": [
       "<div>\n",
       "<style scoped>\n",
       "    .dataframe tbody tr th:only-of-type {\n",
       "        vertical-align: middle;\n",
       "    }\n",
       "\n",
       "    .dataframe tbody tr th {\n",
       "        vertical-align: top;\n",
       "    }\n",
       "\n",
       "    .dataframe thead th {\n",
       "        text-align: right;\n",
       "    }\n",
       "</style>\n",
       "<table border=\"1\" class=\"dataframe\">\n",
       "  <thead>\n",
       "    <tr style=\"text-align: right;\">\n",
       "      <th></th>\n",
       "      <th>speech_num</th>\n",
       "      <th>rank</th>\n",
       "      <th>speech_num_match</th>\n",
       "      <th>distance</th>\n",
       "      <th>president</th>\n",
       "      <th>year</th>\n",
       "      <th>president_match</th>\n",
       "      <th>year_match</th>\n",
       "    </tr>\n",
       "  </thead>\n",
       "  <tbody>\n",
       "    <tr>\n",
       "      <th>104</th>\n",
       "      <td>190</td>\n",
       "      <td>1</td>\n",
       "      <td>195</td>\n",
       "      <td>0.232852</td>\n",
       "      <td>Jimmy Carter</td>\n",
       "      <td>1978</td>\n",
       "      <td>Ronald Reagan</td>\n",
       "      <td>1983</td>\n",
       "    </tr>\n",
       "    <tr>\n",
       "      <th>103</th>\n",
       "      <td>188</td>\n",
       "      <td>1</td>\n",
       "      <td>194</td>\n",
       "      <td>0.266203</td>\n",
       "      <td>Gerald Ford</td>\n",
       "      <td>1976</td>\n",
       "      <td>Ronald Reagan</td>\n",
       "      <td>1982</td>\n",
       "    </tr>\n",
       "    <tr>\n",
       "      <th>498</th>\n",
       "      <td>210</td>\n",
       "      <td>4</td>\n",
       "      <td>226</td>\n",
       "      <td>0.277419</td>\n",
       "      <td>Bill Clinton</td>\n",
       "      <td>1998</td>\n",
       "      <td>Barack Obama</td>\n",
       "      <td>2014</td>\n",
       "    </tr>\n",
       "    <tr>\n",
       "      <th>625</th>\n",
       "      <td>210</td>\n",
       "      <td>5</td>\n",
       "      <td>225</td>\n",
       "      <td>0.279423</td>\n",
       "      <td>Bill Clinton</td>\n",
       "      <td>1998</td>\n",
       "      <td>Barack Obama</td>\n",
       "      <td>2013</td>\n",
       "    </tr>\n",
       "    <tr>\n",
       "      <th>109</th>\n",
       "      <td>203</td>\n",
       "      <td>1</td>\n",
       "      <td>218</td>\n",
       "      <td>0.284601</td>\n",
       "      <td>George Herbert Walker Bush</td>\n",
       "      <td>1991</td>\n",
       "      <td>George W. Bush</td>\n",
       "      <td>2006</td>\n",
       "    </tr>\n",
       "    <tr>\n",
       "      <th>500</th>\n",
       "      <td>212</td>\n",
       "      <td>4</td>\n",
       "      <td>225</td>\n",
       "      <td>0.291351</td>\n",
       "      <td>Bill Clinton</td>\n",
       "      <td>2000</td>\n",
       "      <td>Barack Obama</td>\n",
       "      <td>2013</td>\n",
       "    </tr>\n",
       "    <tr>\n",
       "      <th>231</th>\n",
       "      <td>188</td>\n",
       "      <td>2</td>\n",
       "      <td>195</td>\n",
       "      <td>0.294004</td>\n",
       "      <td>Gerald Ford</td>\n",
       "      <td>1976</td>\n",
       "      <td>Ronald Reagan</td>\n",
       "      <td>1983</td>\n",
       "    </tr>\n",
       "    <tr>\n",
       "      <th>749</th>\n",
       "      <td>210</td>\n",
       "      <td>6</td>\n",
       "      <td>227</td>\n",
       "      <td>0.295001</td>\n",
       "      <td>Bill Clinton</td>\n",
       "      <td>1998</td>\n",
       "      <td>Barack Obama</td>\n",
       "      <td>2015</td>\n",
       "    </tr>\n",
       "    <tr>\n",
       "      <th>339</th>\n",
       "      <td>170</td>\n",
       "      <td>3</td>\n",
       "      <td>173</td>\n",
       "      <td>0.297012</td>\n",
       "      <td>Dwight D. Eisenhower</td>\n",
       "      <td>1959</td>\n",
       "      <td>John F. Kennedy</td>\n",
       "      <td>1961</td>\n",
       "    </tr>\n",
       "    <tr>\n",
       "      <th>350</th>\n",
       "      <td>188</td>\n",
       "      <td>3</td>\n",
       "      <td>190</td>\n",
       "      <td>0.300386</td>\n",
       "      <td>Gerald Ford</td>\n",
       "      <td>1976</td>\n",
       "      <td>Jimmy Carter</td>\n",
       "      <td>1978</td>\n",
       "    </tr>\n",
       "  </tbody>\n",
       "</table>\n",
       "</div>"
      ],
      "text/plain": [
       "     speech_num rank  speech_num_match  distance                   president  \\\n",
       "104         190    1               195  0.232852                Jimmy Carter   \n",
       "103         188    1               194  0.266203                 Gerald Ford   \n",
       "498         210    4               226  0.277419                Bill Clinton   \n",
       "625         210    5               225  0.279423                Bill Clinton   \n",
       "109         203    1               218  0.284601  George Herbert Walker Bush   \n",
       "500         212    4               225  0.291351                Bill Clinton   \n",
       "231         188    2               195  0.294004                 Gerald Ford   \n",
       "749         210    6               227  0.295001                Bill Clinton   \n",
       "339         170    3               173  0.297012        Dwight D. Eisenhower   \n",
       "350         188    3               190  0.300386                 Gerald Ford   \n",
       "\n",
       "     year  president_match  year_match  \n",
       "104  1978    Ronald Reagan        1983  \n",
       "103  1976    Ronald Reagan        1982  \n",
       "498  1998     Barack Obama        2014  \n",
       "625  1998     Barack Obama        2013  \n",
       "109  1991   George W. Bush        2006  \n",
       "500  2000     Barack Obama        2013  \n",
       "231  1976    Ronald Reagan        1983  \n",
       "749  1998     Barack Obama        2015  \n",
       "339  1959  John F. Kennedy        1961  \n",
       "350  1976     Jimmy Carter        1978  "
      ]
     },
     "execution_count": 27,
     "metadata": {},
     "output_type": "execute_result"
    }
   ],
   "source": [
    "simdist_matrix[(simdist_matrix['president'] != simdist_matrix['president_match']) & \\\n",
    "              ((simdist_matrix['year'] >= 1950 ))].head(10)"
   ]
  },
  {
   "cell_type": "markdown",
   "metadata": {},
   "source": [
    "Most dissimilar speeches since 1900. Note 1943 and 1944 by FDR are very dissimilar."
   ]
  },
  {
   "cell_type": "code",
   "execution_count": 28,
   "metadata": {},
   "outputs": [
    {
     "data": {
      "text/html": [
       "<div>\n",
       "<style scoped>\n",
       "    .dataframe tbody tr th:only-of-type {\n",
       "        vertical-align: middle;\n",
       "    }\n",
       "\n",
       "    .dataframe tbody tr th {\n",
       "        vertical-align: top;\n",
       "    }\n",
       "\n",
       "    .dataframe thead th {\n",
       "        text-align: right;\n",
       "    }\n",
       "</style>\n",
       "<table border=\"1\" class=\"dataframe\">\n",
       "  <thead>\n",
       "    <tr style=\"text-align: right;\">\n",
       "      <th></th>\n",
       "      <th>speech_num</th>\n",
       "      <th>rank</th>\n",
       "      <th>speech_num_match</th>\n",
       "      <th>distance</th>\n",
       "      <th>president</th>\n",
       "      <th>year</th>\n",
       "      <th>president_match</th>\n",
       "      <th>year_match</th>\n",
       "    </tr>\n",
       "  </thead>\n",
       "  <tbody>\n",
       "    <tr>\n",
       "      <th>26786</th>\n",
       "      <td>142</td>\n",
       "      <td>231</td>\n",
       "      <td>152</td>\n",
       "      <td>1.400440</td>\n",
       "      <td>Herbert Hoover</td>\n",
       "      <td>1931</td>\n",
       "      <td>Franklin Delano Roosevelt</td>\n",
       "      <td>1942</td>\n",
       "    </tr>\n",
       "    <tr>\n",
       "      <th>26771</th>\n",
       "      <td>127</td>\n",
       "      <td>231</td>\n",
       "      <td>152</td>\n",
       "      <td>1.383300</td>\n",
       "      <td>Woodrow Wilson</td>\n",
       "      <td>1916</td>\n",
       "      <td>Franklin Delano Roosevelt</td>\n",
       "      <td>1942</td>\n",
       "    </tr>\n",
       "    <tr>\n",
       "      <th>26772</th>\n",
       "      <td>128</td>\n",
       "      <td>231</td>\n",
       "      <td>156</td>\n",
       "      <td>1.382841</td>\n",
       "      <td>Woodrow Wilson</td>\n",
       "      <td>1917</td>\n",
       "      <td>Harry S. Truman</td>\n",
       "      <td>1946</td>\n",
       "    </tr>\n",
       "    <tr>\n",
       "      <th>26486</th>\n",
       "      <td>152</td>\n",
       "      <td>229</td>\n",
       "      <td>156</td>\n",
       "      <td>1.374231</td>\n",
       "      <td>Franklin Delano Roosevelt</td>\n",
       "      <td>1942</td>\n",
       "      <td>Harry S. Truman</td>\n",
       "      <td>1946</td>\n",
       "    </tr>\n",
       "    <tr>\n",
       "      <th>26785</th>\n",
       "      <td>141</td>\n",
       "      <td>231</td>\n",
       "      <td>152</td>\n",
       "      <td>1.373882</td>\n",
       "      <td>Herbert Hoover</td>\n",
       "      <td>1930</td>\n",
       "      <td>Franklin Delano Roosevelt</td>\n",
       "      <td>1942</td>\n",
       "    </tr>\n",
       "    <tr>\n",
       "      <th>26622</th>\n",
       "      <td>127</td>\n",
       "      <td>230</td>\n",
       "      <td>230</td>\n",
       "      <td>1.352091</td>\n",
       "      <td>Woodrow Wilson</td>\n",
       "      <td>1916</td>\n",
       "      <td>Donald Trump</td>\n",
       "      <td>2018</td>\n",
       "    </tr>\n",
       "    <tr>\n",
       "      <th>26466</th>\n",
       "      <td>127</td>\n",
       "      <td>229</td>\n",
       "      <td>231</td>\n",
       "      <td>1.349607</td>\n",
       "      <td>Woodrow Wilson</td>\n",
       "      <td>1916</td>\n",
       "      <td>Donald Trump</td>\n",
       "      <td>2019</td>\n",
       "    </tr>\n",
       "    <tr>\n",
       "      <th>26636</th>\n",
       "      <td>142</td>\n",
       "      <td>230</td>\n",
       "      <td>231</td>\n",
       "      <td>1.349371</td>\n",
       "      <td>Herbert Hoover</td>\n",
       "      <td>1931</td>\n",
       "      <td>Donald Trump</td>\n",
       "      <td>2019</td>\n",
       "    </tr>\n",
       "    <tr>\n",
       "      <th>26480</th>\n",
       "      <td>142</td>\n",
       "      <td>229</td>\n",
       "      <td>230</td>\n",
       "      <td>1.343116</td>\n",
       "      <td>Herbert Hoover</td>\n",
       "      <td>1931</td>\n",
       "      <td>Donald Trump</td>\n",
       "      <td>2018</td>\n",
       "    </tr>\n",
       "    <tr>\n",
       "      <th>26312</th>\n",
       "      <td>127</td>\n",
       "      <td>228</td>\n",
       "      <td>153</td>\n",
       "      <td>1.328478</td>\n",
       "      <td>Woodrow Wilson</td>\n",
       "      <td>1916</td>\n",
       "      <td>Franklin Delano Roosevelt</td>\n",
       "      <td>1943</td>\n",
       "    </tr>\n",
       "  </tbody>\n",
       "</table>\n",
       "</div>"
      ],
      "text/plain": [
       "       speech_num rank  speech_num_match  distance                  president  \\\n",
       "26786         142  231               152  1.400440             Herbert Hoover   \n",
       "26771         127  231               152  1.383300             Woodrow Wilson   \n",
       "26772         128  231               156  1.382841             Woodrow Wilson   \n",
       "26486         152  229               156  1.374231  Franklin Delano Roosevelt   \n",
       "26785         141  231               152  1.373882             Herbert Hoover   \n",
       "26622         127  230               230  1.352091             Woodrow Wilson   \n",
       "26466         127  229               231  1.349607             Woodrow Wilson   \n",
       "26636         142  230               231  1.349371             Herbert Hoover   \n",
       "26480         142  229               230  1.343116             Herbert Hoover   \n",
       "26312         127  228               153  1.328478             Woodrow Wilson   \n",
       "\n",
       "       year            president_match  year_match  \n",
       "26786  1931  Franklin Delano Roosevelt        1942  \n",
       "26771  1916  Franklin Delano Roosevelt        1942  \n",
       "26772  1917            Harry S. Truman        1946  \n",
       "26486  1942            Harry S. Truman        1946  \n",
       "26785  1930  Franklin Delano Roosevelt        1942  \n",
       "26622  1916               Donald Trump        2018  \n",
       "26466  1916               Donald Trump        2019  \n",
       "26636  1931               Donald Trump        2019  \n",
       "26480  1931               Donald Trump        2018  \n",
       "26312  1916  Franklin Delano Roosevelt        1943  "
      ]
     },
     "execution_count": 28,
     "metadata": {},
     "output_type": "execute_result"
    }
   ],
   "source": [
    "simdist_matrix[((simdist_matrix['year'] >= 1900 ) & (simdist_matrix['year_match'] >= 1900 ))].\\\n",
    "                sort_values('distance',ascending=False).head(10)"
   ]
  },
  {
   "cell_type": "markdown",
   "metadata": {},
   "source": [
    "## Clustering Speeches"
   ]
  },
  {
   "cell_type": "markdown",
   "metadata": {},
   "source": [
    "* https://chrisalbon.com/machine_learning/clustering/agglomerative_clustering/\n",
    "* https://towardsdatascience.com/an-introduction-to-clustering-algorithms-in-python-123438574097\n",
    "* https://medium.com/@corymaklin/machine-learning-algorithms-part-12-hierarchical-agglomerative-clustering-example-in-python-1e18e0075019\n",
    "* https://nbviewer.jupyter.org/github/OxanaSachenkova/hclust-python/blob/master/hclust.ipynb"
   ]
  },
  {
   "cell_type": "code",
   "execution_count": 102,
   "metadata": {},
   "outputs": [
    {
     "data": {
      "image/png": "[encoded data removed]",
      "text/plain": [
       "<Figure size 432x288 with 1 Axes>"
      ]
     },
     "metadata": {
      "needs_background": "light"
     },
     "output_type": "display_data"
    }
   ],
   "source": [
    "link = sch.linkage(speeches_embed, method='ward')\n",
    "# create dendrogram\n",
    "dendrogram = sch.dendrogram(sch.linkage(speeches_embed, method='ward'))"
   ]
  },
  {
   "cell_type": "code",
   "execution_count": 107,
   "metadata": {},
   "outputs": [],
   "source": [
    "# create clusters\n",
    "hc = AgglomerativeClustering(n_clusters=9)\n",
    "\n",
    "y_hc = hc.fit_predict(speeches_embed)"
   ]
  },
  {
   "cell_type": "code",
   "execution_count": 108,
   "metadata": {},
   "outputs": [],
   "source": [
    "speeches_pd['cluster'] = y_hc # assign to dataframe column"
   ]
  },
  {
   "cell_type": "markdown",
   "metadata": {},
   "source": [
    "Look at how our clustering worked on a sample of speeches. Sort by year"
   ]
  },
  {
   "cell_type": "code",
   "execution_count": 122,
   "metadata": {},
   "outputs": [
    {
     "data": {
      "text/html": [
       "<div>\n",
       "<style scoped>\n",
       "    .dataframe tbody tr th:only-of-type {\n",
       "        vertical-align: middle;\n",
       "    }\n",
       "\n",
       "    .dataframe tbody tr th {\n",
       "        vertical-align: top;\n",
       "    }\n",
       "\n",
       "    .dataframe thead th {\n",
       "        text-align: right;\n",
       "    }\n",
       "</style>\n",
       "<table border=\"1\" class=\"dataframe\">\n",
       "  <thead>\n",
       "    <tr style=\"text-align: right;\">\n",
       "      <th></th>\n",
       "      <th>president</th>\n",
       "      <th>year</th>\n",
       "      <th>cluster</th>\n",
       "    </tr>\n",
       "  </thead>\n",
       "  <tbody>\n",
       "    <tr>\n",
       "      <th>222</th>\n",
       "      <td>Barack Obama</td>\n",
       "      <td>2010</td>\n",
       "      <td>7</td>\n",
       "    </tr>\n",
       "    <tr>\n",
       "      <th>207</th>\n",
       "      <td>Bill Clinton</td>\n",
       "      <td>1995</td>\n",
       "      <td>7</td>\n",
       "    </tr>\n",
       "    <tr>\n",
       "      <th>203</th>\n",
       "      <td>George Herbert Walker Bush</td>\n",
       "      <td>1991</td>\n",
       "      <td>4</td>\n",
       "    </tr>\n",
       "    <tr>\n",
       "      <th>201</th>\n",
       "      <td>George Herbert Walker Bush</td>\n",
       "      <td>1989</td>\n",
       "      <td>7</td>\n",
       "    </tr>\n",
       "    <tr>\n",
       "      <th>188</th>\n",
       "      <td>Gerald Ford</td>\n",
       "      <td>1976</td>\n",
       "      <td>4</td>\n",
       "    </tr>\n",
       "    <tr>\n",
       "      <th>185</th>\n",
       "      <td>Richard Nixon</td>\n",
       "      <td>1973</td>\n",
       "      <td>4</td>\n",
       "    </tr>\n",
       "    <tr>\n",
       "      <th>158</th>\n",
       "      <td>Harry S. Truman</td>\n",
       "      <td>1948</td>\n",
       "      <td>8</td>\n",
       "    </tr>\n",
       "    <tr>\n",
       "      <th>141</th>\n",
       "      <td>Herbert Hoover</td>\n",
       "      <td>1930</td>\n",
       "      <td>2</td>\n",
       "    </tr>\n",
       "    <tr>\n",
       "      <th>122</th>\n",
       "      <td>William Howard Taft</td>\n",
       "      <td>1911</td>\n",
       "      <td>5</td>\n",
       "    </tr>\n",
       "    <tr>\n",
       "      <th>111</th>\n",
       "      <td>William McKinley</td>\n",
       "      <td>1900</td>\n",
       "      <td>5</td>\n",
       "    </tr>\n",
       "    <tr>\n",
       "      <th>106</th>\n",
       "      <td>Grover Cleveland</td>\n",
       "      <td>1895</td>\n",
       "      <td>5</td>\n",
       "    </tr>\n",
       "    <tr>\n",
       "      <th>62</th>\n",
       "      <td>Millard Fillmore</td>\n",
       "      <td>1851</td>\n",
       "      <td>5</td>\n",
       "    </tr>\n",
       "    <tr>\n",
       "      <th>40</th>\n",
       "      <td>Andrew Jackson</td>\n",
       "      <td>1829</td>\n",
       "      <td>0</td>\n",
       "    </tr>\n",
       "    <tr>\n",
       "      <th>36</th>\n",
       "      <td>John Quincy Adams</td>\n",
       "      <td>1825</td>\n",
       "      <td>0</td>\n",
       "    </tr>\n",
       "    <tr>\n",
       "      <th>22</th>\n",
       "      <td>James Madison</td>\n",
       "      <td>1811</td>\n",
       "      <td>0</td>\n",
       "    </tr>\n",
       "  </tbody>\n",
       "</table>\n",
       "</div>"
      ],
      "text/plain": [
       "                      president  year  cluster\n",
       "222                Barack Obama  2010        7\n",
       "207                Bill Clinton  1995        7\n",
       "203  George Herbert Walker Bush  1991        4\n",
       "201  George Herbert Walker Bush  1989        7\n",
       "188                 Gerald Ford  1976        4\n",
       "185               Richard Nixon  1973        4\n",
       "158             Harry S. Truman  1948        8\n",
       "141              Herbert Hoover  1930        2\n",
       "122         William Howard Taft  1911        5\n",
       "111            William McKinley  1900        5\n",
       "106            Grover Cleveland  1895        5\n",
       "62             Millard Fillmore  1851        5\n",
       "40               Andrew Jackson  1829        0\n",
       "36            John Quincy Adams  1825        0\n",
       "22                James Madison  1811        0"
      ]
     },
     "execution_count": 122,
     "metadata": {},
     "output_type": "execute_result"
    }
   ],
   "source": [
    "speeches_pd.drop('speech',axis=1).sample(15).sort_values('year',ascending=False)"
   ]
  }
 ],
 "metadata": {
  "kernelspec": {
   "display_name": "Python 3",
   "language": "python",
   "name": "python3"
  },
  "language_info": {
   "codemirror_mode": {
    "name": "ipython",
    "version": 3
   },
   "file_extension": ".py",
   "mimetype": "text/x-python",
   "name": "python",
   "nbconvert_exporter": "python",
   "pygments_lexer": "ipython3",
   "version": "3.7.1"
  }
 },
 "nbformat": 4,
 "nbformat_minor": 2
}

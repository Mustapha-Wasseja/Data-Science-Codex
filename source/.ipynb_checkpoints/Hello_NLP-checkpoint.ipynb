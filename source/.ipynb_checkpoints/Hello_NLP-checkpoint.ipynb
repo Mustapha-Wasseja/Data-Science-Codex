{
 "cells": [
  {
   "cell_type": "markdown",
   "metadata": {},
   "source": [
    "Testing out some NLP techniques using the in-built Wall Street Journal dataset in NLTK"
   ]
  },
  {
   "cell_type": "code",
   "execution_count": 13,
   "metadata": {},
   "outputs": [],
   "source": [
    "import nltk\n",
    "from nltk.stem.wordnet import *\n",
    "from nltk.book import *\n",
    "from sklearn.feature_extraction.text import CountVectorizer\n",
    "from sklearn.decomposition import LatentDirichletAllocation\n",
    "from nltk.stem.snowball import PorterStemmer\n",
    "default_stopwords = set(nltk.corpus.stopwords.words('english'))"
   ]
  },
  {
   "cell_type": "markdown",
   "metadata": {},
   "source": [
    "https://www.kaggle.com/arthurtok/spooky-nlp-and-topic-modelling-tutorial"
   ]
  },
  {
   "cell_type": "markdown",
   "metadata": {},
   "source": [
    "## Topic Modeling with LDA"
   ]
  },
  {
   "cell_type": "code",
   "execution_count": 19,
   "metadata": {},
   "outputs": [],
   "source": [
    "#WSJ_freq = nltk.FreqDist(text7)\n",
    "\n",
    "stemmer = PorterStemmer()\n",
    "lda = LatentDirichletAllocation(n_components=7, max_iter=5,\n",
    "                                learning_method = 'online',\n",
    "                                learning_offset = 50.,\n",
    "                                random_state = 0)\n",
    "\n",
    "lemm = WordNetLemmatizer()\n",
    "class LemmaCountVectorizer(CountVectorizer):\n",
    "    def build_analyzer(self):\n",
    "        analyzer = super(LemmaCountVectorizer, self).build_analyzer()\n",
    "        return lambda doc: (lemm.lemmatize(w) for w in analyzer(doc))\n",
    "\n",
    "tf_vectorizer = LemmaCountVectorizer(max_df=0.95, \n",
    "                                     min_df=2,\n",
    "                                     stop_words='english',\n",
    "                                     decode_error='ignore')\n",
    "\n",
    "tf = tf_vectorizer.fit_transform(text7)"
   ]
  },
  {
   "cell_type": "code",
   "execution_count": 20,
   "metadata": {},
   "outputs": [],
   "source": [
    "# train lda\n",
    "wsj_lda = lda.fit(tf)"
   ]
  },
  {
   "cell_type": "code",
   "execution_count": 21,
   "metadata": {},
   "outputs": [
    {
     "name": "stdout",
     "output_type": "stream",
     "text": [
      "\n",
      "Topics in LDA model: \n",
      "\n",
      "Topic #0:million program corp bond profit time analyst industry\n",
      "======================================================================\n",
      "\n",
      "Topic #1:market say trading sale rrb cent plan 30\n",
      "======================================================================\n",
      "\n",
      "Topic #2:company stock billion month investor bank buy ich\n",
      "======================================================================\n",
      "\n",
      "Topic #3:year new 000 future lrb 50 quarter service\n",
      "======================================================================\n",
      "\n",
      "Topic #4:said mr index business investment 10 rate contract\n",
      "======================================================================\n",
      "\n",
      "Topic #5:price president york day exchange rose term yesterday\n",
      "======================================================================\n",
      "\n",
      "Topic #6:share issue government executive house financial october trader\n",
      "======================================================================\n"
     ]
    }
   ],
   "source": [
    "n_top_words = 8\n",
    "\n",
    "# Define helper function to print top words\n",
    "def print_top_words(model, feature_names, n_top_words):\n",
    "    for index, topic in enumerate(model.components_):\n",
    "        message = \"\\nTopic #{}:\".format(index)\n",
    "        message += \" \".join([feature_names[i] for i in topic.argsort()[:-n_top_words - 1 :-1]])\n",
    "        print(message)\n",
    "        print(\"=\"*70)\n",
    "\n",
    "print(\"\\nTopics in LDA model: \")\n",
    "tf_feature_names = tf_vectorizer.get_feature_names()\n",
    "print_top_words(wsj_lda, tf_feature_names, n_top_words)"
   ]
  },
  {
   "cell_type": "markdown",
   "metadata": {},
   "source": [
    "## Stemming"
   ]
  },
  {
   "cell_type": "code",
   "execution_count": 63,
   "metadata": {},
   "outputs": [
    {
     "data": {
      "text/plain": [
       "[('said', 628),\n",
       " ('million', 383),\n",
       " ('compani', 260),\n",
       " ('year', 212),\n",
       " ('say', 210),\n",
       " ('would', 209),\n",
       " ('market', 176),\n",
       " ('new', 165),\n",
       " ('new', 162),\n",
       " ('trade', 162),\n",
       " ('billion', 159),\n",
       " ('also', 147),\n",
       " ('stock', 136),\n",
       " ('presid', 133),\n",
       " ('one', 132)]"
      ]
     },
     "execution_count": 63,
     "metadata": {},
     "output_type": "execute_result"
    }
   ],
   "source": [
    "[ (stemmer.stem(w),f) for (w,f) in WSJ_freq.most_common(80) if w.lower() not in default_stopwords and w.isalpha()]"
   ]
  },
  {
   "cell_type": "code",
   "execution_count": 61,
   "metadata": {},
   "outputs": [
    {
     "data": {
      "text/plain": [
       "[(',', 4885),\n",
       " ('.', 3828),\n",
       " ('*-1', 1123),\n",
       " ('0', 1099),\n",
       " ('*', 965),\n",
       " (\"'s\", 864),\n",
       " ('*T*-1', 806),\n",
       " ('*U*', 744),\n",
       " ('$', 718),\n",
       " ('``', 702),\n",
       " (\"''\", 684)]"
      ]
     },
     "execution_count": 61,
     "metadata": {},
     "output_type": "execute_result"
    }
   ],
   "source": [
    "[ (w,f) for (w,f) in WSJ_freq.most_common(20) if w.lower() not in default_stopwords ]"
   ]
  }
 ],
 "metadata": {
  "kernelspec": {
   "display_name": "Python 3",
   "language": "python",
   "name": "python3"
  },
  "language_info": {
   "codemirror_mode": {
    "name": "ipython",
    "version": 3
   },
   "file_extension": ".py",
   "mimetype": "text/x-python",
   "name": "python",
   "nbconvert_exporter": "python",
   "pygments_lexer": "ipython3",
   "version": "3.6.8"
  }
 },
 "nbformat": 4,
 "nbformat_minor": 2
}

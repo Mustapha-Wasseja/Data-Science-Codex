{
 "cells": [
  {
   "cell_type": "markdown",
   "metadata": {},
   "source": [
    "Analyze state of the union addresses. \n",
    "Data source: https://en.wikisource.org/wiki/Portal:State_of_the_Union_Speeches_by_United_States_Presidents\n",
    "scrape the text of all speeches and then maybe try to find patterns of speech of each president?"
   ]
  },
  {
   "cell_type": "markdown",
   "metadata": {},
   "source": [
    "https://nlp.stanford.edu/IR-book/html/htmledition/sublinear-tf-scaling-1.html \n",
    "https://www.oreilly.com/library/view/applied-text-analysis/9781491963036/ch04.html "
   ]
  },
  {
   "cell_type": "markdown",
   "metadata": {},
   "source": [
    "## Setup"
   ]
  },
  {
   "cell_type": "code",
   "execution_count": 1,
   "metadata": {},
   "outputs": [],
   "source": [
    "from bs4 import BeautifulSoup\n",
    "import requests\n",
    "import pandas as pd\n",
    "import urllib.request\n",
    "import re\n",
    "from textblob import TextBlob\n",
    "import seaborn as sns\n",
    "import matplotlib.pyplot as plt\n",
    "\n",
    "\n",
    "# Data source we are going to scrape for results\n",
    "data_url = 'https://en.wikisource.org/wiki/Portal:State_of_the_Union_Speeches_by_United_States_Presidents'\n",
    "\n",
    "link_list = []\n",
    "\n",
    "resp = urllib.request.urlopen(data_url)\n",
    "soup = BeautifulSoup(resp, from_encoding=resp.info().get_param('charset'))\n",
    "\n",
    "# Get all links to state of the union addresses from \n",
    "for link in soup.find_all('a', href=True):\n",
    "    if \"union_address\" in link['href'].lower() or \"union_speech\" in link['href'].lower() \\\n",
    "        and \"portal\" not in link['href'].lower() and \"#\" not in link['href'].lower():\n",
    "        link_list.append(link['href'])\n",
    "\n",
    "# extract the text of a speech from a URL\n",
    "# text is extracted in a list of paragraphs (strings) for each speech\n",
    "def get_speech(url):\n",
    "    return([ p.text.strip() for p in BeautifulSoup(urllib.request.urlopen(url)).find_all(\"p\") if \\\n",
    "             'This work is in the public domain in the United States because it is a work of the United States federal government' \\\n",
    "             not in p.text.strip()])\n"
   ]
  },
  {
   "cell_type": "markdown",
   "metadata": {},
   "source": [
    "## Web Scraping"
   ]
  },
  {
   "cell_type": "code",
   "execution_count": 2,
   "metadata": {},
   "outputs": [],
   "source": [
    "speeches = [get_speech('https://en.wikisource.org' + link) for link in link_list]\n",
    "# Extract presidents names from link text\n",
    "presidents = [ link.replace('%','/').split('/')[2].replace('_',' ') for link in link_list ]\n",
    "\n",
    "# Extract state of the union text entries so we can extract the date\n",
    "sou_entries = []\n",
    "for item in soup.find_all('li'):\n",
    "    if 'union' in item.text.strip().lower() and '(' in  item.text.strip().lower():\n",
    "        sou_entries.append(item.text.strip())\n",
    "\n",
    "speeches_pd = pd.DataFrame({\n",
    "                'president' : presidents,\n",
    "                'speech' : speeches,\n",
    "                'year' : [int(re.findall('\\d+',item)[1]) for item in sou_entries ]} )\n",
    "        "
   ]
  },
  {
   "cell_type": "code",
   "execution_count": 3,
   "metadata": {},
   "outputs": [
    {
     "data": {
      "text/html": [
       "<div>\n",
       "<style scoped>\n",
       "    .dataframe tbody tr th:only-of-type {\n",
       "        vertical-align: middle;\n",
       "    }\n",
       "\n",
       "    .dataframe tbody tr th {\n",
       "        vertical-align: top;\n",
       "    }\n",
       "\n",
       "    .dataframe thead th {\n",
       "        text-align: right;\n",
       "    }\n",
       "</style>\n",
       "<table border=\"1\" class=\"dataframe\">\n",
       "  <thead>\n",
       "    <tr style=\"text-align: right;\">\n",
       "      <th></th>\n",
       "      <th>president</th>\n",
       "      <th>speech</th>\n",
       "      <th>year</th>\n",
       "    </tr>\n",
       "  </thead>\n",
       "  <tbody>\n",
       "    <tr>\n",
       "      <th>150</th>\n",
       "      <td>Franklin Delano Roosevelt</td>\n",
       "      <td>[Mr. Vice President, Mr. Speaker, Members of t...</td>\n",
       "      <td>1940</td>\n",
       "    </tr>\n",
       "    <tr>\n",
       "      <th>28</th>\n",
       "      <td>James Monroe</td>\n",
       "      <td>[Fellow-Citizens of the Senate and House of Re...</td>\n",
       "      <td>1817</td>\n",
       "    </tr>\n",
       "    <tr>\n",
       "      <th>36</th>\n",
       "      <td>John Quincy Adams</td>\n",
       "      <td>[Fellow Citizens of the Senate and of the Hous...</td>\n",
       "      <td>1825</td>\n",
       "    </tr>\n",
       "    <tr>\n",
       "      <th>67</th>\n",
       "      <td>Franklin Pierce</td>\n",
       "      <td>[Fellow-Citizens of the Senate and of the Hous...</td>\n",
       "      <td>1856</td>\n",
       "    </tr>\n",
       "    <tr>\n",
       "      <th>87</th>\n",
       "      <td>Ulysses S. Grant</td>\n",
       "      <td>[To the Senate and House of Representatives:, ...</td>\n",
       "      <td>1876</td>\n",
       "    </tr>\n",
       "    <tr>\n",
       "      <th>222</th>\n",
       "      <td>Barack Obama</td>\n",
       "      <td>[Madam Speaker, Vice President Biden, members ...</td>\n",
       "      <td>2010</td>\n",
       "    </tr>\n",
       "    <tr>\n",
       "      <th>46</th>\n",
       "      <td>Andrew Jackson</td>\n",
       "      <td>[Fellow Citizens of the Senate and of the Hous...</td>\n",
       "      <td>1835</td>\n",
       "    </tr>\n",
       "    <tr>\n",
       "      <th>125</th>\n",
       "      <td>Woodrow Wilson</td>\n",
       "      <td>[GENTLEMEN OF THE CONGRESS:, The session upon ...</td>\n",
       "      <td>1914</td>\n",
       "    </tr>\n",
       "    <tr>\n",
       "      <th>34</th>\n",
       "      <td>James Monroe</td>\n",
       "      <td>[Fellow-Citizens of the Senate and House of Re...</td>\n",
       "      <td>1823</td>\n",
       "    </tr>\n",
       "    <tr>\n",
       "      <th>122</th>\n",
       "      <td>William Howard Taft</td>\n",
       "      <td>[To the Senate and House of Representatives:, ...</td>\n",
       "      <td>1911</td>\n",
       "    </tr>\n",
       "  </tbody>\n",
       "</table>\n",
       "</div>"
      ],
      "text/plain": [
       "                     president  \\\n",
       "150  Franklin Delano Roosevelt   \n",
       "28                James Monroe   \n",
       "36           John Quincy Adams   \n",
       "67             Franklin Pierce   \n",
       "87            Ulysses S. Grant   \n",
       "222               Barack Obama   \n",
       "46              Andrew Jackson   \n",
       "125             Woodrow Wilson   \n",
       "34                James Monroe   \n",
       "122        William Howard Taft   \n",
       "\n",
       "                                                speech  year  \n",
       "150  [Mr. Vice President, Mr. Speaker, Members of t...  1940  \n",
       "28   [Fellow-Citizens of the Senate and House of Re...  1817  \n",
       "36   [Fellow Citizens of the Senate and of the Hous...  1825  \n",
       "67   [Fellow-Citizens of the Senate and of the Hous...  1856  \n",
       "87   [To the Senate and House of Representatives:, ...  1876  \n",
       "222  [Madam Speaker, Vice President Biden, members ...  2010  \n",
       "46   [Fellow Citizens of the Senate and of the Hous...  1835  \n",
       "125  [GENTLEMEN OF THE CONGRESS:, The session upon ...  1914  \n",
       "34   [Fellow-Citizens of the Senate and House of Re...  1823  \n",
       "122  [To the Senate and House of Representatives:, ...  1911  "
      ]
     },
     "execution_count": 3,
     "metadata": {},
     "output_type": "execute_result"
    }
   ],
   "source": [
    "speeches_pd.sample(n=10)"
   ]
  },
  {
   "cell_type": "markdown",
   "metadata": {},
   "source": [
    "## Pre-process and TfIdf Vectorize Speeches"
   ]
  },
  {
   "cell_type": "code",
   "execution_count": 11,
   "metadata": {},
   "outputs": [],
   "source": [
    "import nltk\n",
    "from nltk.tokenize import word_tokenize\n",
    "from nltk import pos_tag\n",
    "#nltk.download('punkt')\n",
    "#nltk.download('wordnet')\n",
    "#nltk.download('averaged_perceptron_tagger')\n",
    "from stop_words import get_stop_words\n",
    "from nltk.stem.porter import PorterStemmer\n",
    "from nltk.corpus import wordnet\n",
    "from nltk.stem.wordnet import WordNetLemmatizer\n",
    "from sklearn.feature_extraction.text import TfidfVectorizer\n",
    "from sklearn.decomposition import LatentDirichletAllocation\n",
    "\n",
    "lmtzr = WordNetLemmatizer()\n",
    "\n",
    "## NOTE - these two functions for POS tagging and lemmatization\n",
    "## are much slower than the spacy alternative\n",
    "# Convert nltk POS to POS that can be used by lemmatizer\n",
    "def get_wordnet_pos(treebank_tag):\n",
    "    if treebank_tag.startswith('J'):\n",
    "        return wordnet.ADJ\n",
    "    elif treebank_tag.startswith('V'):\n",
    "        return wordnet.VERB\n",
    "    elif treebank_tag.startswith('N'):\n",
    "        return wordnet.NOUN\n",
    "    elif treebank_tag.startswith('R'):\n",
    "        return wordnet.ADV\n",
    "    else:\n",
    "        return ''\n",
    "\n",
    "# Lemmatize a word with its appropriate POS tag\n",
    "def lemmatize_with_pos(word,testing=False):\n",
    "    pos = get_wordnet_pos(nltk.pos_tag([word])[0][1])\n",
    "    if testing==True:\n",
    "        print('POS: ' + pos)\n",
    "    if pos != '':\n",
    "        return(lmtzr.lemmatize(word,pos))\n",
    "    else:\n",
    "        return(lmtzr.lemmatize(word))\n",
    "    \n",
    "MyStopWords = get_stop_words('en')\n",
    "MyStopWords.extend(['make','will','can','applause'])"
   ]
  },
  {
   "cell_type": "code",
   "execution_count": 5,
   "metadata": {},
   "outputs": [
    {
     "name": "stdout",
     "output_type": "stream",
     "text": [
      "POS: n\n"
     ]
    },
    {
     "data": {
      "text/plain": [
       "'treaty'"
      ]
     },
     "execution_count": 5,
     "metadata": {},
     "output_type": "execute_result"
    }
   ],
   "source": [
    "lemmatize_with_pos('treaties',testing=True)"
   ]
  },
  {
   "cell_type": "markdown",
   "metadata": {},
   "source": [
    "Clean, Tokenize, Lemmatize, and Vectorize all speeches "
   ]
  },
  {
   "cell_type": "code",
   "execution_count": 10,
   "metadata": {},
   "outputs": [],
   "source": [
    "# Each speech is stored as a list of paragraph strings. \n",
    "# Here we join the paragraphs into a single speech string\n",
    "speech_list = [\" \".join(speech) for speech in speeches_pd['speech'].tolist() ]\n",
    "\n",
    "# Only use the last X years to make the topic modeling a bit easier\n",
    "selected_speeches = speech_list[len(speech_list)-31:(len(speech_list)-1)]"
   ]
  },
  {
   "cell_type": "code",
   "execution_count": 7,
   "metadata": {},
   "outputs": [],
   "source": [
    "# WARNING - this step may take a few minutes\n",
    "tokens = [[lemmatize_with_pos(word.lower()) for word in word_tokenize(speech) if \\\n",
    "          word.isalpha() and word.lower() not in MyStopWords ] for \\\n",
    "          speech in selected_speeches ]"
   ]
  },
  {
   "cell_type": "code",
   "execution_count": 8,
   "metadata": {},
   "outputs": [],
   "source": [
    "# Tfidf Vectorize\n",
    "tvec = TfidfVectorizer(ngram_range=(1,1))\n",
    "texts = [\" \".join(tok) for tok in tokens ]\n",
    "tfidf = pd.DataFrame(tvec.fit_transform(texts).toarray(),\n",
    "                    columns  = tvec.get_feature_names())\n",
    "#corpus = Sparse2Corpus(tvec.fit_transform(texts), documents_columns=False)"
   ]
  },
  {
   "cell_type": "code",
   "execution_count": 9,
   "metadata": {},
   "outputs": [
    {
     "name": "stderr",
     "output_type": "stream",
     "text": [
      "C:\\Users\\595559\\AppData\\Local\\Continuum\\anaconda3\\lib\\site-packages\\gensim\\utils.py:1209: UserWarning: detected Windows; aliasing chunkize to chunkize_serial\n",
      "  warnings.warn(\"detected Windows; aliasing chunkize to chunkize_serial\")\n"
     ]
    }
   ],
   "source": [
    "from gensim.corpora.dictionary import Dictionary\n",
    "# Create a corpus from a list of texts\n",
    "common_dictionary = Dictionary(tokens)\n",
    "corpus = [common_dictionary.doc2bow(text) for text in tokens]"
   ]
  },
  {
   "cell_type": "code",
   "execution_count": 10,
   "metadata": {},
   "outputs": [
    {
     "name": "stdout",
     "output_type": "stream",
     "text": [
      "(30, 6524)\n"
     ]
    }
   ],
   "source": [
    "print(tfidf.shape)"
   ]
  },
  {
   "cell_type": "markdown",
   "metadata": {},
   "source": [
    "## Gensim Topic Modeling"
   ]
  },
  {
   "cell_type": "markdown",
   "metadata": {},
   "source": [
    "https://github.com/RaRe-Technologies/gensim/blob/develop/docs/notebooks/topic_methods.ipynb"
   ]
  },
  {
   "cell_type": "code",
   "execution_count": 200,
   "metadata": {},
   "outputs": [],
   "source": [
    "import gensim\n",
    "from gensim import corpora, models\n",
    "\n",
    "gensimLDA = gensim.models.ldamodel.LdaModel(corpus, num_topics=10, id2word = common_dictionary, passes=20)"
   ]
  },
  {
   "cell_type": "code",
   "execution_count": 292,
   "metadata": {},
   "outputs": [
    {
     "data": {
      "text/plain": [
       "[(0,\n",
       "  '0.012*\"america\" + 0.010*\"world\" + 0.009*\"american\" + 0.008*\"nation\" + 0.007*\"new\" + 0.007*\"year\" + 0.007*\"u\" + 0.006*\"know\" + 0.006*\"child\" + 0.006*\"must\" + 0.005*\"now\" + 0.005*\"every\" + 0.005*\"people\" + 0.005*\"freedom\" + 0.005*\"one\"'),\n",
       " (1,\n",
       "  '0.000*\"american\" + 0.000*\"year\" + 0.000*\"work\" + 0.000*\"america\" + 0.000*\"u\" + 0.000*\"now\" + 0.000*\"people\" + 0.000*\"s\" + 0.000*\"job\" + 0.000*\"every\" + 0.000*\"world\" + 0.000*\"one\" + 0.000*\"let\" + 0.000*\"must\" + 0.000*\"congress\"'),\n",
       " (2,\n",
       "  '0.009*\"america\" + 0.009*\"must\" + 0.009*\"people\" + 0.008*\"american\" + 0.008*\"nation\" + 0.008*\"iraq\" + 0.007*\"year\" + 0.007*\"country\" + 0.007*\"world\" + 0.007*\"terrorist\" + 0.006*\"security\" + 0.006*\"iraqi\" + 0.005*\"freedom\" + 0.005*\"government\" + 0.005*\"great\"'),\n",
       " (3,\n",
       "  '0.014*\"s\" + 0.011*\"american\" + 0.010*\"year\" + 0.009*\"america\" + 0.008*\"job\" + 0.008*\"work\" + 0.008*\"new\" + 0.007*\"u\" + 0.007*\"people\" + 0.006*\"t\" + 0.005*\"help\" + 0.005*\"need\" + 0.005*\"country\" + 0.005*\"get\" + 0.005*\"one\"'),\n",
       " (4,\n",
       "  '0.015*\"people\" + 0.014*\"work\" + 0.012*\"year\" + 0.008*\"new\" + 0.008*\"american\" + 0.007*\"u\" + 0.007*\"government\" + 0.007*\"country\" + 0.007*\"cut\" + 0.007*\"go\" + 0.007*\"get\" + 0.006*\"let\" + 0.006*\"time\" + 0.006*\"way\" + 0.006*\"last\"'),\n",
       " (5,\n",
       "  '0.007*\"tobacco\" + 0.004*\"jonesboro\" + 0.003*\"century\" + 0.003*\"boom\" + 0.003*\"social\" + 0.003*\"dominican\" + 0.003*\"taliaferro\" + 0.002*\"untapped\" + 0.002*\"suzann\" + 0.002*\"freer\" + 0.002*\"contain\" + 0.002*\"devastate\" + 0.002*\"palestinian\" + 0.002*\"elderly\" + 0.002*\"surplus\"'),\n",
       " (6,\n",
       "  '0.012*\"year\" + 0.011*\"american\" + 0.011*\"must\" + 0.009*\"people\" + 0.009*\"america\" + 0.009*\"work\" + 0.008*\"child\" + 0.007*\"new\" + 0.007*\"u\" + 0.007*\"now\" + 0.006*\"every\" + 0.006*\"one\" + 0.006*\"help\" + 0.005*\"world\" + 0.005*\"time\"'),\n",
       " (7,\n",
       "  '0.012*\"america\" + 0.008*\"american\" + 0.007*\"terrorist\" + 0.007*\"security\" + 0.007*\"world\" + 0.006*\"must\" + 0.006*\"nation\" + 0.005*\"terror\" + 0.005*\"freedom\" + 0.005*\"good\" + 0.005*\"work\" + 0.005*\"afghanistan\" + 0.005*\"people\" + 0.005*\"job\" + 0.005*\"country\"'),\n",
       " (8,\n",
       "  '0.000*\"work\" + 0.000*\"year\" + 0.000*\"american\" + 0.000*\"must\" + 0.000*\"new\" + 0.000*\"job\" + 0.000*\"america\" + 0.000*\"child\" + 0.000*\"people\" + 0.000*\"u\" + 0.000*\"now\" + 0.000*\"time\" + 0.000*\"nation\" + 0.000*\"world\" + 0.000*\"one\"'),\n",
       " (9,\n",
       "  '0.000*\"year\" + 0.000*\"american\" + 0.000*\"america\" + 0.000*\"people\" + 0.000*\"work\" + 0.000*\"u\" + 0.000*\"s\" + 0.000*\"new\" + 0.000*\"nation\" + 0.000*\"must\" + 0.000*\"country\" + 0.000*\"know\" + 0.000*\"help\" + 0.000*\"now\" + 0.000*\"need\"')]"
      ]
     },
     "execution_count": 292,
     "metadata": {},
     "output_type": "execute_result"
    }
   ],
   "source": [
    "gensimLDA.show_topics(formatted=True,num_words=15)"
   ]
  },
  {
   "cell_type": "code",
   "execution_count": 270,
   "metadata": {},
   "outputs": [],
   "source": [
    "doc_top_proportions = [ gensimLDA.get_document_topics(doc,minimum_probability=0) for doc in corpus ]"
   ]
  },
  {
   "cell_type": "code",
   "execution_count": 284,
   "metadata": {},
   "outputs": [],
   "source": [
    "doc_top_probs = pd.DataFrame([[prob for (topic, prob) in prob_tuple] for prob_tuple in doc_top_proportions])\n",
    "doc_top_probs['MostCommonTopic'] = doc_top_probs.idxmax(axis=1)"
   ]
  },
  {
   "cell_type": "code",
   "execution_count": 289,
   "metadata": {},
   "outputs": [
    {
     "data": {
      "text/html": [
       "<div>\n",
       "<style scoped>\n",
       "    .dataframe tbody tr th:only-of-type {\n",
       "        vertical-align: middle;\n",
       "    }\n",
       "\n",
       "    .dataframe tbody tr th {\n",
       "        vertical-align: top;\n",
       "    }\n",
       "\n",
       "    .dataframe thead th {\n",
       "        text-align: right;\n",
       "    }\n",
       "</style>\n",
       "<table border=\"1\" class=\"dataframe\">\n",
       "  <thead>\n",
       "    <tr style=\"text-align: right;\">\n",
       "      <th></th>\n",
       "      <th>0</th>\n",
       "      <th>1</th>\n",
       "      <th>2</th>\n",
       "      <th>3</th>\n",
       "      <th>4</th>\n",
       "      <th>5</th>\n",
       "      <th>6</th>\n",
       "      <th>7</th>\n",
       "      <th>8</th>\n",
       "      <th>9</th>\n",
       "      <th>MostCommonTopic</th>\n",
       "    </tr>\n",
       "  </thead>\n",
       "  <tbody>\n",
       "    <tr>\n",
       "      <th>0</th>\n",
       "      <td>0.000040</td>\n",
       "      <td>0.000040</td>\n",
       "      <td>0.000251</td>\n",
       "      <td>0.000040</td>\n",
       "      <td>0.000040</td>\n",
       "      <td>0.000040</td>\n",
       "      <td>0.999431</td>\n",
       "      <td>0.000040</td>\n",
       "      <td>0.000040</td>\n",
       "      <td>0.000040</td>\n",
       "      <td>6</td>\n",
       "    </tr>\n",
       "    <tr>\n",
       "      <th>1</th>\n",
       "      <td>0.000041</td>\n",
       "      <td>0.000041</td>\n",
       "      <td>0.000041</td>\n",
       "      <td>0.000041</td>\n",
       "      <td>0.000041</td>\n",
       "      <td>0.000041</td>\n",
       "      <td>0.999628</td>\n",
       "      <td>0.000041</td>\n",
       "      <td>0.000041</td>\n",
       "      <td>0.000041</td>\n",
       "      <td>6</td>\n",
       "    </tr>\n",
       "    <tr>\n",
       "      <th>2</th>\n",
       "      <td>0.000053</td>\n",
       "      <td>0.000053</td>\n",
       "      <td>0.000053</td>\n",
       "      <td>0.000053</td>\n",
       "      <td>0.000053</td>\n",
       "      <td>0.000053</td>\n",
       "      <td>0.999522</td>\n",
       "      <td>0.000053</td>\n",
       "      <td>0.000053</td>\n",
       "      <td>0.000053</td>\n",
       "      <td>6</td>\n",
       "    </tr>\n",
       "    <tr>\n",
       "      <th>3</th>\n",
       "      <td>0.999530</td>\n",
       "      <td>0.000052</td>\n",
       "      <td>0.000052</td>\n",
       "      <td>0.000052</td>\n",
       "      <td>0.000052</td>\n",
       "      <td>0.000052</td>\n",
       "      <td>0.000052</td>\n",
       "      <td>0.000052</td>\n",
       "      <td>0.000052</td>\n",
       "      <td>0.000052</td>\n",
       "      <td>0</td>\n",
       "    </tr>\n",
       "    <tr>\n",
       "      <th>4</th>\n",
       "      <td>0.000041</td>\n",
       "      <td>0.000041</td>\n",
       "      <td>0.000041</td>\n",
       "      <td>0.000041</td>\n",
       "      <td>0.000041</td>\n",
       "      <td>0.000041</td>\n",
       "      <td>0.999634</td>\n",
       "      <td>0.000041</td>\n",
       "      <td>0.000041</td>\n",
       "      <td>0.000041</td>\n",
       "      <td>6</td>\n",
       "    </tr>\n",
       "    <tr>\n",
       "      <th>5</th>\n",
       "      <td>0.000030</td>\n",
       "      <td>0.000030</td>\n",
       "      <td>0.000030</td>\n",
       "      <td>0.000030</td>\n",
       "      <td>0.000030</td>\n",
       "      <td>0.000030</td>\n",
       "      <td>0.999727</td>\n",
       "      <td>0.000030</td>\n",
       "      <td>0.000030</td>\n",
       "      <td>0.000030</td>\n",
       "      <td>6</td>\n",
       "    </tr>\n",
       "    <tr>\n",
       "      <th>6</th>\n",
       "      <td>0.000027</td>\n",
       "      <td>0.000027</td>\n",
       "      <td>0.000027</td>\n",
       "      <td>0.000027</td>\n",
       "      <td>0.000027</td>\n",
       "      <td>0.000027</td>\n",
       "      <td>0.999756</td>\n",
       "      <td>0.000027</td>\n",
       "      <td>0.000027</td>\n",
       "      <td>0.000027</td>\n",
       "      <td>6</td>\n",
       "    </tr>\n",
       "    <tr>\n",
       "      <th>7</th>\n",
       "      <td>0.000023</td>\n",
       "      <td>0.000023</td>\n",
       "      <td>0.000023</td>\n",
       "      <td>0.000023</td>\n",
       "      <td>0.976299</td>\n",
       "      <td>0.000023</td>\n",
       "      <td>0.023515</td>\n",
       "      <td>0.000023</td>\n",
       "      <td>0.000023</td>\n",
       "      <td>0.000023</td>\n",
       "      <td>4</td>\n",
       "    </tr>\n",
       "    <tr>\n",
       "      <th>8</th>\n",
       "      <td>0.000032</td>\n",
       "      <td>0.000032</td>\n",
       "      <td>0.000032</td>\n",
       "      <td>0.000032</td>\n",
       "      <td>0.000032</td>\n",
       "      <td>0.000032</td>\n",
       "      <td>0.999714</td>\n",
       "      <td>0.000032</td>\n",
       "      <td>0.000032</td>\n",
       "      <td>0.000032</td>\n",
       "      <td>6</td>\n",
       "    </tr>\n",
       "    <tr>\n",
       "      <th>9</th>\n",
       "      <td>0.000029</td>\n",
       "      <td>0.000029</td>\n",
       "      <td>0.000029</td>\n",
       "      <td>0.000029</td>\n",
       "      <td>0.000029</td>\n",
       "      <td>0.000029</td>\n",
       "      <td>0.999741</td>\n",
       "      <td>0.000029</td>\n",
       "      <td>0.000029</td>\n",
       "      <td>0.000029</td>\n",
       "      <td>6</td>\n",
       "    </tr>\n",
       "    <tr>\n",
       "      <th>10</th>\n",
       "      <td>0.382407</td>\n",
       "      <td>0.000026</td>\n",
       "      <td>0.000026</td>\n",
       "      <td>0.000028</td>\n",
       "      <td>0.000026</td>\n",
       "      <td>0.000026</td>\n",
       "      <td>0.617381</td>\n",
       "      <td>0.000026</td>\n",
       "      <td>0.000026</td>\n",
       "      <td>0.000026</td>\n",
       "      <td>6</td>\n",
       "    </tr>\n",
       "    <tr>\n",
       "      <th>11</th>\n",
       "      <td>0.000025</td>\n",
       "      <td>0.000025</td>\n",
       "      <td>0.000025</td>\n",
       "      <td>0.000025</td>\n",
       "      <td>0.000025</td>\n",
       "      <td>0.042471</td>\n",
       "      <td>0.957325</td>\n",
       "      <td>0.000025</td>\n",
       "      <td>0.000025</td>\n",
       "      <td>0.000025</td>\n",
       "      <td>6</td>\n",
       "    </tr>\n",
       "    <tr>\n",
       "      <th>12</th>\n",
       "      <td>0.000022</td>\n",
       "      <td>0.000022</td>\n",
       "      <td>0.000022</td>\n",
       "      <td>0.000022</td>\n",
       "      <td>0.000022</td>\n",
       "      <td>0.000022</td>\n",
       "      <td>0.999806</td>\n",
       "      <td>0.000022</td>\n",
       "      <td>0.000022</td>\n",
       "      <td>0.000022</td>\n",
       "      <td>6</td>\n",
       "    </tr>\n",
       "    <tr>\n",
       "      <th>13</th>\n",
       "      <td>0.000043</td>\n",
       "      <td>0.000043</td>\n",
       "      <td>0.044296</td>\n",
       "      <td>0.087748</td>\n",
       "      <td>0.000043</td>\n",
       "      <td>0.000043</td>\n",
       "      <td>0.867655</td>\n",
       "      <td>0.000043</td>\n",
       "      <td>0.000043</td>\n",
       "      <td>0.000043</td>\n",
       "      <td>6</td>\n",
       "    </tr>\n",
       "    <tr>\n",
       "      <th>14</th>\n",
       "      <td>0.000048</td>\n",
       "      <td>0.000048</td>\n",
       "      <td>0.005567</td>\n",
       "      <td>0.000048</td>\n",
       "      <td>0.000048</td>\n",
       "      <td>0.000048</td>\n",
       "      <td>0.104219</td>\n",
       "      <td>0.889876</td>\n",
       "      <td>0.000048</td>\n",
       "      <td>0.000048</td>\n",
       "      <td>7</td>\n",
       "    </tr>\n",
       "    <tr>\n",
       "      <th>15</th>\n",
       "      <td>0.000035</td>\n",
       "      <td>0.000035</td>\n",
       "      <td>0.999681</td>\n",
       "      <td>0.000035</td>\n",
       "      <td>0.000035</td>\n",
       "      <td>0.000035</td>\n",
       "      <td>0.000035</td>\n",
       "      <td>0.000035</td>\n",
       "      <td>0.000035</td>\n",
       "      <td>0.000035</td>\n",
       "      <td>2</td>\n",
       "    </tr>\n",
       "    <tr>\n",
       "      <th>16</th>\n",
       "      <td>0.000036</td>\n",
       "      <td>0.000036</td>\n",
       "      <td>0.403074</td>\n",
       "      <td>0.360465</td>\n",
       "      <td>0.000036</td>\n",
       "      <td>0.000036</td>\n",
       "      <td>0.236206</td>\n",
       "      <td>0.000036</td>\n",
       "      <td>0.000036</td>\n",
       "      <td>0.000036</td>\n",
       "      <td>2</td>\n",
       "    </tr>\n",
       "    <tr>\n",
       "      <th>17</th>\n",
       "      <td>0.000038</td>\n",
       "      <td>0.000038</td>\n",
       "      <td>0.963674</td>\n",
       "      <td>0.000038</td>\n",
       "      <td>0.000038</td>\n",
       "      <td>0.000038</td>\n",
       "      <td>0.036021</td>\n",
       "      <td>0.000038</td>\n",
       "      <td>0.000038</td>\n",
       "      <td>0.000038</td>\n",
       "      <td>2</td>\n",
       "    </tr>\n",
       "    <tr>\n",
       "      <th>18</th>\n",
       "      <td>0.278080</td>\n",
       "      <td>0.000036</td>\n",
       "      <td>0.355631</td>\n",
       "      <td>0.335182</td>\n",
       "      <td>0.000036</td>\n",
       "      <td>0.000036</td>\n",
       "      <td>0.030891</td>\n",
       "      <td>0.000036</td>\n",
       "      <td>0.000036</td>\n",
       "      <td>0.000036</td>\n",
       "      <td>2</td>\n",
       "    </tr>\n",
       "    <tr>\n",
       "      <th>19</th>\n",
       "      <td>0.000035</td>\n",
       "      <td>0.000035</td>\n",
       "      <td>0.273621</td>\n",
       "      <td>0.604467</td>\n",
       "      <td>0.000035</td>\n",
       "      <td>0.000035</td>\n",
       "      <td>0.121667</td>\n",
       "      <td>0.000035</td>\n",
       "      <td>0.000035</td>\n",
       "      <td>0.000035</td>\n",
       "      <td>3</td>\n",
       "    </tr>\n",
       "  </tbody>\n",
       "</table>\n",
       "</div>"
      ],
      "text/plain": [
       "           0         1         2         3         4         5         6  \\\n",
       "0   0.000040  0.000040  0.000251  0.000040  0.000040  0.000040  0.999431   \n",
       "1   0.000041  0.000041  0.000041  0.000041  0.000041  0.000041  0.999628   \n",
       "2   0.000053  0.000053  0.000053  0.000053  0.000053  0.000053  0.999522   \n",
       "3   0.999530  0.000052  0.000052  0.000052  0.000052  0.000052  0.000052   \n",
       "4   0.000041  0.000041  0.000041  0.000041  0.000041  0.000041  0.999634   \n",
       "5   0.000030  0.000030  0.000030  0.000030  0.000030  0.000030  0.999727   \n",
       "6   0.000027  0.000027  0.000027  0.000027  0.000027  0.000027  0.999756   \n",
       "7   0.000023  0.000023  0.000023  0.000023  0.976299  0.000023  0.023515   \n",
       "8   0.000032  0.000032  0.000032  0.000032  0.000032  0.000032  0.999714   \n",
       "9   0.000029  0.000029  0.000029  0.000029  0.000029  0.000029  0.999741   \n",
       "10  0.382407  0.000026  0.000026  0.000028  0.000026  0.000026  0.617381   \n",
       "11  0.000025  0.000025  0.000025  0.000025  0.000025  0.042471  0.957325   \n",
       "12  0.000022  0.000022  0.000022  0.000022  0.000022  0.000022  0.999806   \n",
       "13  0.000043  0.000043  0.044296  0.087748  0.000043  0.000043  0.867655   \n",
       "14  0.000048  0.000048  0.005567  0.000048  0.000048  0.000048  0.104219   \n",
       "15  0.000035  0.000035  0.999681  0.000035  0.000035  0.000035  0.000035   \n",
       "16  0.000036  0.000036  0.403074  0.360465  0.000036  0.000036  0.236206   \n",
       "17  0.000038  0.000038  0.963674  0.000038  0.000038  0.000038  0.036021   \n",
       "18  0.278080  0.000036  0.355631  0.335182  0.000036  0.000036  0.030891   \n",
       "19  0.000035  0.000035  0.273621  0.604467  0.000035  0.000035  0.121667   \n",
       "\n",
       "           7         8         9  MostCommonTopic  \n",
       "0   0.000040  0.000040  0.000040                6  \n",
       "1   0.000041  0.000041  0.000041                6  \n",
       "2   0.000053  0.000053  0.000053                6  \n",
       "3   0.000052  0.000052  0.000052                0  \n",
       "4   0.000041  0.000041  0.000041                6  \n",
       "5   0.000030  0.000030  0.000030                6  \n",
       "6   0.000027  0.000027  0.000027                6  \n",
       "7   0.000023  0.000023  0.000023                4  \n",
       "8   0.000032  0.000032  0.000032                6  \n",
       "9   0.000029  0.000029  0.000029                6  \n",
       "10  0.000026  0.000026  0.000026                6  \n",
       "11  0.000025  0.000025  0.000025                6  \n",
       "12  0.000022  0.000022  0.000022                6  \n",
       "13  0.000043  0.000043  0.000043                6  \n",
       "14  0.889876  0.000048  0.000048                7  \n",
       "15  0.000035  0.000035  0.000035                2  \n",
       "16  0.000036  0.000036  0.000036                2  \n",
       "17  0.000038  0.000038  0.000038                2  \n",
       "18  0.000036  0.000036  0.000036                2  \n",
       "19  0.000035  0.000035  0.000035                3  "
      ]
     },
     "execution_count": 289,
     "metadata": {},
     "output_type": "execute_result"
    }
   ],
   "source": [
    "doc_top_probs.head(20)"
   ]
  },
  {
   "cell_type": "code",
   "execution_count": 286,
   "metadata": {},
   "outputs": [
    {
     "data": {
      "text/plain": [
       "0     3\n",
       "1     2\n",
       "2    15\n",
       "3    24\n",
       "4     7\n",
       "5    11\n",
       "6    12\n",
       "7    14\n",
       "8     2\n",
       "9     2\n",
       "dtype: int64"
      ]
     },
     "execution_count": 286,
     "metadata": {},
     "output_type": "execute_result"
    }
   ],
   "source": [
    "doc_top_probs.drop('MostCommonTopic',axis=1).idxmax(axis=0)"
   ]
  },
  {
   "cell_type": "code",
   "execution_count": 254,
   "metadata": {},
   "outputs": [],
   "source": [
    "test = pd.DataFrame(doc_top_proportions)"
   ]
  },
  {
   "cell_type": "code",
   "execution_count": 281,
   "metadata": {},
   "outputs": [
    {
     "data": {
      "text/plain": [
       "'Thank you very much. Mr. Speaker, Vice President Cheney, members of Congress, distinguished guests, fellow citizens: As we gather tonight, our nation is at war, our economy is in recession, and the civilized world faces unprecedented dangers. Yet the state of our Union has never been stronger. We last met in an hour of shock and suffering. In four short months, our nation has comforted the victims, begun to rebuild New York and the Pentagon, rallied a great coalition, captured, arrested, and rid'"
      ]
     },
     "execution_count": 281,
     "metadata": {},
     "output_type": "execute_result"
    }
   ],
   "source": [
    "selected_speeches[14][:500]"
   ]
  },
  {
   "cell_type": "markdown",
   "metadata": {},
   "source": [
    "## SkLearn Topic Modeling"
   ]
  },
  {
   "cell_type": "code",
   "execution_count": 135,
   "metadata": {},
   "outputs": [],
   "source": [
    "## LDA Topic Modeling\n",
    "speech_lda = LatentDirichletAllocation(n_components=8,\n",
    "                                       random_state=1,\n",
    "                                    #   evaluate_every=0.5, # eval perplexity\n",
    "                                    #   perp_tol=0.05,\n",
    "                                       max_iter=50,\n",
    "                                learning_method='online'\n",
    "                                      )\n",
    "\n",
    "speech_lda.fit(tfidf) # fit model\n",
    "\n",
    "# % makeup of each document by topic\n",
    "doc_topic = pd.DataFrame(speech_lda.transform(tfidf),\n",
    "                        columns=list(range(0,(speech_lda.n_components))))\n",
    "\n",
    "# What was the most common topic in each document?\n",
    "doc_topic['MostCommonTopic'] = doc_topic.idxmax(axis=1)\n"
   ]
  },
  {
   "cell_type": "code",
   "execution_count": 136,
   "metadata": {},
   "outputs": [
    {
     "data": {
      "text/plain": [
       "0                  15\n",
       "1                  23\n",
       "2                  15\n",
       "3                  15\n",
       "4                  15\n",
       "5                  15\n",
       "6                  15\n",
       "7                  15\n",
       "MostCommonTopic     0\n",
       "dtype: int64"
      ]
     },
     "execution_count": 136,
     "metadata": {},
     "output_type": "execute_result"
    }
   ],
   "source": [
    "# In which document did each topic most commonly occur?\n",
    "doc_topic.idxmax(axis=0)"
   ]
  },
  {
   "cell_type": "code",
   "execution_count": 137,
   "metadata": {},
   "outputs": [
    {
     "data": {
      "text/html": [
       "<div>\n",
       "<style scoped>\n",
       "    .dataframe tbody tr th:only-of-type {\n",
       "        vertical-align: middle;\n",
       "    }\n",
       "\n",
       "    .dataframe tbody tr th {\n",
       "        vertical-align: top;\n",
       "    }\n",
       "\n",
       "    .dataframe thead th {\n",
       "        text-align: right;\n",
       "    }\n",
       "</style>\n",
       "<table border=\"1\" class=\"dataframe\">\n",
       "  <thead>\n",
       "    <tr style=\"text-align: right;\">\n",
       "      <th></th>\n",
       "      <th>0</th>\n",
       "      <th>1</th>\n",
       "      <th>2</th>\n",
       "      <th>3</th>\n",
       "      <th>4</th>\n",
       "      <th>5</th>\n",
       "      <th>6</th>\n",
       "      <th>7</th>\n",
       "      <th>MostCommonTopic</th>\n",
       "    </tr>\n",
       "  </thead>\n",
       "  <tbody>\n",
       "    <tr>\n",
       "      <th>0</th>\n",
       "      <td>0.004376</td>\n",
       "      <td>0.969368</td>\n",
       "      <td>0.004376</td>\n",
       "      <td>0.004376</td>\n",
       "      <td>0.004376</td>\n",
       "      <td>0.004376</td>\n",
       "      <td>0.004376</td>\n",
       "      <td>0.004376</td>\n",
       "      <td>1</td>\n",
       "    </tr>\n",
       "    <tr>\n",
       "      <th>1</th>\n",
       "      <td>0.004121</td>\n",
       "      <td>0.971152</td>\n",
       "      <td>0.004121</td>\n",
       "      <td>0.004121</td>\n",
       "      <td>0.004121</td>\n",
       "      <td>0.004121</td>\n",
       "      <td>0.004121</td>\n",
       "      <td>0.004121</td>\n",
       "      <td>1</td>\n",
       "    </tr>\n",
       "    <tr>\n",
       "      <th>2</th>\n",
       "      <td>0.004231</td>\n",
       "      <td>0.970384</td>\n",
       "      <td>0.004231</td>\n",
       "      <td>0.004231</td>\n",
       "      <td>0.004231</td>\n",
       "      <td>0.004231</td>\n",
       "      <td>0.004231</td>\n",
       "      <td>0.004231</td>\n",
       "      <td>1</td>\n",
       "    </tr>\n",
       "    <tr>\n",
       "      <th>3</th>\n",
       "      <td>0.004177</td>\n",
       "      <td>0.970764</td>\n",
       "      <td>0.004177</td>\n",
       "      <td>0.004177</td>\n",
       "      <td>0.004177</td>\n",
       "      <td>0.004177</td>\n",
       "      <td>0.004177</td>\n",
       "      <td>0.004177</td>\n",
       "      <td>1</td>\n",
       "    </tr>\n",
       "    <tr>\n",
       "      <th>4</th>\n",
       "      <td>0.003938</td>\n",
       "      <td>0.972431</td>\n",
       "      <td>0.003938</td>\n",
       "      <td>0.003938</td>\n",
       "      <td>0.003938</td>\n",
       "      <td>0.003938</td>\n",
       "      <td>0.003938</td>\n",
       "      <td>0.003938</td>\n",
       "      <td>1</td>\n",
       "    </tr>\n",
       "  </tbody>\n",
       "</table>\n",
       "</div>"
      ],
      "text/plain": [
       "          0         1         2         3         4         5         6  \\\n",
       "0  0.004376  0.969368  0.004376  0.004376  0.004376  0.004376  0.004376   \n",
       "1  0.004121  0.971152  0.004121  0.004121  0.004121  0.004121  0.004121   \n",
       "2  0.004231  0.970384  0.004231  0.004231  0.004231  0.004231  0.004231   \n",
       "3  0.004177  0.970764  0.004177  0.004177  0.004177  0.004177  0.004177   \n",
       "4  0.003938  0.972431  0.003938  0.003938  0.003938  0.003938  0.003938   \n",
       "\n",
       "          7  MostCommonTopic  \n",
       "0  0.004376                1  \n",
       "1  0.004121                1  \n",
       "2  0.004231                1  \n",
       "3  0.004177                1  \n",
       "4  0.003938                1  "
      ]
     },
     "execution_count": 137,
     "metadata": {},
     "output_type": "execute_result"
    }
   ],
   "source": [
    "doc_topic.head(5)"
   ]
  },
  {
   "cell_type": "code",
   "execution_count": 138,
   "metadata": {},
   "outputs": [
    {
     "name": "stdout",
     "output_type": "stream",
     "text": [
      "Topic #0: america year ancestry country state positive maternity thank incentive tonight millionaire congressional\n",
      "Topic #1: year american america people must new nation world work congress now government\n",
      "Topic #2: woman bring come task arsenal people must day competency viable family give\n",
      "Topic #3: coma trust readjustment hanoi khalid michel sent caregiver criticize workable dan grassroots\n",
      "Topic #4: another berthing anywhere redevelopment astern need ambitiously fiction protectionism complicate scientist rebate\n",
      "Topic #5: year must american nation people world state america government now service job\n",
      "Topic #6: ambition impetus despair cruel resourceful dramatic hard theodore immunize integral fundamental eventful\n",
      "Topic #7: american america new enacts state soviet world lebanon register repression disruption aspect\n",
      "\n"
     ]
    }
   ],
   "source": [
    "# Print the top words for topics in the topic model\n",
    "def print_top_words(model, feature_names, n_top_words):\n",
    "    for topic_idx, topic in enumerate(model.components_):\n",
    "        message = \"Topic #%d: \" % topic_idx\n",
    "        message += \" \".join([feature_names[i]\n",
    "                             for i in topic.argsort()[:-n_top_words - 1:-1]])\n",
    "        print(message)\n",
    "    print()    \n",
    "\n",
    "print_top_words(speech_lda, tfidf.columns.values, 12)"
   ]
  },
  {
   "cell_type": "code",
   "execution_count": 139,
   "metadata": {},
   "outputs": [
    {
     "data": {
      "text/plain": [
       "(60, 9)"
      ]
     },
     "execution_count": 139,
     "metadata": {},
     "output_type": "execute_result"
    }
   ],
   "source": [
    "doc_topic.shape"
   ]
  },
  {
   "cell_type": "markdown",
   "metadata": {},
   "source": [
    "## Sentiment Analysis"
   ]
  },
  {
   "cell_type": "code",
   "execution_count": 108,
   "metadata": {},
   "outputs": [],
   "source": [
    "sentiments = [TextBlob(text).sentiment for text in speech_list ] \n",
    "\n",
    "speeches_pd['polarity'] = [ i[0] for i in sentiments]\n",
    "speeches_pd['subjectivity'] = [ i[1] for i in sentiments]"
   ]
  },
  {
   "cell_type": "code",
   "execution_count": 110,
   "metadata": {},
   "outputs": [
    {
     "name": "stderr",
     "output_type": "stream",
     "text": [
      "C:\\Users\\595559\\AppData\\Local\\Continuum\\anaconda3\\lib\\site-packages\\scipy\\stats\\stats.py:1713: FutureWarning: Using a non-tuple sequence for multidimensional indexing is deprecated; use `arr[tuple(seq)]` instead of `arr[seq]`. In the future this will be interpreted as an array index, `arr[np.array(seq)]`, which will result either in an error or a different result.\n",
      "  return np.add.reduce(sorted[indexer] * weights, axis=axis) / sumval\n"
     ]
    },
    {
     "data": {
      "text/plain": [
       "<seaborn.axisgrid.FacetGrid at 0x18b2e6375f8>"
      ]
     },
     "execution_count": 110,
     "metadata": {},
     "output_type": "execute_result"
    },
    {
     "data": {
      "image/png": "[encoded data removed]",
      "text/plain": [
       "<Figure size 648x432 with 1 Axes>"
      ]
     },
     "metadata": {
      "needs_background": "light"
     },
     "output_type": "display_data"
    }
   ],
   "source": [
    "sns.relplot(x=\"year\", y=\"polarity\", data=speeches_pd,kind=\"line\",height=6,aspect=1.5)"
   ]
  },
  {
   "cell_type": "markdown",
   "metadata": {},
   "source": [
    "## Spacy"
   ]
  },
  {
   "cell_type": "markdown",
   "metadata": {},
   "source": [
    "Test out spacy as a (hopefully faster) alternative to NLTK lemmatization"
   ]
  },
  {
   "cell_type": "code",
   "execution_count": 81,
   "metadata": {},
   "outputs": [],
   "source": [
    "import spacy\n",
    "nlp = spacy.load('en', disable=['parser', 'ner']) # disabling the parser makes it run faster\n",
    "doc = nlp('This is a sentence.')"
   ]
  },
  {
   "cell_type": "code",
   "execution_count": 75,
   "metadata": {},
   "outputs": [
    {
     "data": {
      "text/plain": [
       "'a'"
      ]
     },
     "execution_count": 75,
     "metadata": {},
     "output_type": "execute_result"
    }
   ],
   "source": [
    "doc[2].lemma_"
   ]
  },
  {
   "cell_type": "code",
   "execution_count": 72,
   "metadata": {},
   "outputs": [
    {
     "data": {
      "text/plain": [
       "'this'"
      ]
     },
     "execution_count": 72,
     "metadata": {},
     "output_type": "execute_result"
    }
   ],
   "source": [
    "doc[0].text.lower()"
   ]
  },
  {
   "cell_type": "code",
   "execution_count": 76,
   "metadata": {},
   "outputs": [],
   "source": [
    "# Preprocess pipeline with spacy. \n",
    "def spacy_preprocess(text):  # clean up your text and generate list of words for each document. \n",
    "    text_out = []\n",
    "    doc= nlp(text)\n",
    "    for token in doc:\n",
    "        # Get rid of stop words and non-alphanumeric\n",
    "        if token.is_stop == False and token.is_alpha and len(token)>2:\n",
    "            lemma = token.lemma_\n",
    "            if lemma != '-PRON-':\n",
    "                text_out.append(lemma)\n",
    "            else:\n",
    "                text_out.append(token.text.lower())            \n",
    "    return(text_out)"
   ]
  },
  {
   "cell_type": "code",
   "execution_count": 78,
   "metadata": {},
   "outputs": [
    {
     "data": {
      "text/plain": [
       "['this',\n",
       " 'osama',\n",
       " 'bin',\n",
       " 'laden',\n",
       " 'upper',\n",
       " 'bob',\n",
       " 'tom',\n",
       " 'allen',\n",
       " 'afghanistan',\n",
       " 'dsfdsf',\n",
       " 'datum',\n",
       " 'science',\n",
       " 'run',\n",
       " 'run',\n",
       " 'run']"
      ]
     },
     "execution_count": 78,
     "metadata": {},
     "output_type": "execute_result"
    }
   ],
   "source": [
    "spacy_preprocess('This Osama Bin Laden UPPER BOB TOM ALLEN AFGHANISTAN dsfdsf sd 343 2 4wr234 data science running run run')"
   ]
  },
  {
   "cell_type": "code",
   "execution_count": 5,
   "metadata": {},
   "outputs": [],
   "source": [
    "test_doc = 'I am running jumping presidents applause now beaches'"
   ]
  },
  {
   "cell_type": "code",
   "execution_count": 6,
   "metadata": {},
   "outputs": [],
   "source": [
    "test_nlp = nlp(test_doc)"
   ]
  },
  {
   "cell_type": "markdown",
   "metadata": {},
   "source": [
    "## Preprocessing Speed Test"
   ]
  },
  {
   "cell_type": "code",
   "execution_count": 80,
   "metadata": {},
   "outputs": [
    {
     "name": "stdout",
     "output_type": "stream",
     "text": [
      "NLTK method time elapsed: 97.75806975364685\n",
      "Spacy method time elapsed: 16.999743938446045\n"
     ]
    }
   ],
   "source": [
    "import time\n",
    "# Test NLTK method\n",
    "start = time.time()\n",
    "# WARNING - this step may take a few minutes\n",
    "nltk_tokens = [[lemmatize_with_pos(word.lower()) for word in word_tokenize(speech) if \\\n",
    "          word.isalpha() and word.lower() not in MyStopWords ] for \\\n",
    "          speech in selected_speeches ]\n",
    "print('NLTK method time elapsed: ' + str(time.time()-start))\n",
    "\n",
    "# Test Spacy\n",
    "start = time.time()\n",
    "# WARNING - this step may take a few minutes\n",
    "spacy_tokens = [spacy_preprocess(speech) for \\\n",
    "          speech in selected_speeches ]\n",
    "print('Spacy method time elapsed: ' + str(time.time()-start))"
   ]
  },
  {
   "cell_type": "code",
   "execution_count": 83,
   "metadata": {},
   "outputs": [
    {
     "name": "stdout",
     "output_type": "stream",
     "text": [
      "2823\n",
      "2709\n",
      "['every', 'year', 'law', 'custom', 'meet', 'consider', 'state', 'union', 'year', 'gather', 'chamber', 'deeply', 'aware', 'decisive', 'day', 'lie', 'ahead', 'serve', 'country', 'time', 'great', 'consequence', 'session', 'congress', 'duty', 'reform', 'domestic', 'program', 'vital', 'country']\n",
      "['every', 'year', 'law', 'custom', 'meet', 'consider', 'state', 'union', 'this', 'year', 'gather', 'chamber', 'deeply', 'aware', 'decisive', 'day', 'lie', 'ahead', 'you', 'serve', 'country', 'time', 'great', 'consequence', 'during', 'session', 'congress', 'duty', 'reform', 'domestic']\n"
     ]
    }
   ],
   "source": [
    "i=15\n",
    "print(len(nltk_tokens[i]))\n",
    "print(len(spacy_tokens[i]))\n",
    "print(nltk_tokens[i][10:40])\n",
    "print(spacy_tokens[i][10:40])"
   ]
  },
  {
   "cell_type": "code",
   "execution_count": null,
   "metadata": {},
   "outputs": [],
   "source": []
  }
 ],
 "metadata": {
  "kernelspec": {
   "display_name": "Python 3",
   "language": "python",
   "name": "python3"
  },
  "language_info": {
   "codemirror_mode": {
    "name": "ipython",
    "version": 3
   },
   "file_extension": ".py",
   "mimetype": "text/x-python",
   "name": "python",
   "nbconvert_exporter": "python",
   "pygments_lexer": "ipython3",
   "version": "3.6.8"
  }
 },
 "nbformat": 4,
 "nbformat_minor": 2
}

{
 "cells": [
  {
   "cell_type": "markdown",
   "metadata": {},
   "source": [
    "The purpose of this function is to count the values or combination of values in an entire dataset or a subselection of the columns in a dataset. I have created this function because I couldn't find a pandas function that can count both missing and non-missing values while also looking at a combination of values (multiple columns)"
   ]
  },
  {
   "cell_type": "code",
   "execution_count": 69,
   "metadata": {},
   "outputs": [],
   "source": [
    "import random\n",
    "import string\n",
    "import pandas as pd\n",
    "import numpy as np\n",
    "from IPython.display import display\n",
    "# column names (optional) defined as string or list of strings\n",
    "# Returns frequency table that includes missing values for df\n",
    "def tidy_count(df,columns=None,count_col='n',return_df=False):\n",
    "    # subset df by columns if specified\n",
    "    if columns != None:\n",
    "        if type(columns) != list:\n",
    "            columns = [columns]\n",
    "        df = df[columns]\n",
    "        \n",
    "    col_vals = df.columns.values # all column values\n",
    "        \n",
    "    # Find all distinct values in the dataset for both data values\n",
    "    # and column names, store in the list allvals\n",
    "    pds_allvals = pd.Series(col_vals) \n",
    "    for col in col_vals:\n",
    "        pds_allvals = pd.concat([pds_allvals,cars[str(col)]]).drop_duplicates()\n",
    "    allvals = pds_allvals.tolist()\n",
    "    #print(allvals)\n",
    "    \n",
    "    filler_val=None\n",
    "    # generate a random string for filler_val until it is \n",
    "    # not something that occurs in our data\n",
    "    loop_iters=1\n",
    "    while filler_val == None or filler_val in allvals:\n",
    "        filler_val = ''.join(random.choices(string.digits + string.ascii_letters, k=np.random.randint(4,12)))  \n",
    "        loop_iters += 1\n",
    "        if loop_iters > 8:\n",
    "            print('Error: Cannot find unique string to fill NA values.')\n",
    "            break\n",
    "        \n",
    "    #print(filler_val)\n",
    "    \n",
    "    # reset count column name until it is unique among column names\n",
    "    loop_iters=1\n",
    "    while count_col in col_vals:\n",
    "        if count_col == 'n':\n",
    "            count_col = count_col + 'n'\n",
    "        else:\n",
    "            count_col = count_col + '_'\n",
    "        \n",
    "        if loop_iters > 8:\n",
    "            print('Error: Cannot find unique string for counter column.')\n",
    "            break    \n",
    "        loop_iters += 1\n",
    "\n",
    "     \n",
    "    freq_table = df.fillna(filler_val).groupby([str(x) for x in col_vals]).size().\\\n",
    "            reset_index(name=count_col).\\\n",
    "         replace(filler_val,np.NaN).sort_values(count_col,ascending=False)\n",
    "    \n",
    "    if return_df == False:\n",
    "        display(freq_table.style.hide_index())\n",
    "    else:\n",
    "        display(freq_table.style.hide_index())\n",
    "        return(freq_table)"
   ]
  },
  {
   "cell_type": "markdown",
   "metadata": {},
   "source": [
    "## Test"
   ]
  },
  {
   "cell_type": "code",
   "execution_count": 62,
   "metadata": {},
   "outputs": [],
   "source": [
    "car_names = pd.DataFrame({'name' : ['Batmobile','Toyota Corolla','Bike','Bike','Batmobile'],\n",
    "            'hp': [1000,120,np.nan,np.nan,900]})\n",
    "car_attr = pd.DataFrame({\"name\": [\"Bike\",\"Toyota Corolla\"], \"color\": [\"blue\",\"red\"]})\n",
    "cars = car_names.merge(car_attr,how='left',on='name')"
   ]
  },
  {
   "cell_type": "code",
   "execution_count": 65,
   "metadata": {},
   "outputs": [
    {
     "data": {
      "text/html": [
       "<style  type=\"text/css\" >\n",
       "</style><table id=\"T_ccaf2ae6_a64a_11e9_9c10_1f8f10fc07a7\" ><thead>    <tr>        <th class=\"col_heading level0 col0\" >name</th>        <th class=\"col_heading level0 col1\" >hp</th>        <th class=\"col_heading level0 col2\" >color</th>        <th class=\"col_heading level0 col3\" >n</th>    </tr></thead><tbody>\n",
       "                <tr>\n",
       "                                <td id=\"T_ccaf2ae6_a64a_11e9_9c10_1f8f10fc07a7row0_col0\" class=\"data row0 col0\" >Bike</td>\n",
       "                        <td id=\"T_ccaf2ae6_a64a_11e9_9c10_1f8f10fc07a7row0_col1\" class=\"data row0 col1\" >nan</td>\n",
       "                        <td id=\"T_ccaf2ae6_a64a_11e9_9c10_1f8f10fc07a7row0_col2\" class=\"data row0 col2\" >blue</td>\n",
       "                        <td id=\"T_ccaf2ae6_a64a_11e9_9c10_1f8f10fc07a7row0_col3\" class=\"data row0 col3\" >2</td>\n",
       "            </tr>\n",
       "            <tr>\n",
       "                                <td id=\"T_ccaf2ae6_a64a_11e9_9c10_1f8f10fc07a7row1_col0\" class=\"data row1 col0\" >Batmobile</td>\n",
       "                        <td id=\"T_ccaf2ae6_a64a_11e9_9c10_1f8f10fc07a7row1_col1\" class=\"data row1 col1\" >900</td>\n",
       "                        <td id=\"T_ccaf2ae6_a64a_11e9_9c10_1f8f10fc07a7row1_col2\" class=\"data row1 col2\" >nan</td>\n",
       "                        <td id=\"T_ccaf2ae6_a64a_11e9_9c10_1f8f10fc07a7row1_col3\" class=\"data row1 col3\" >1</td>\n",
       "            </tr>\n",
       "            <tr>\n",
       "                                <td id=\"T_ccaf2ae6_a64a_11e9_9c10_1f8f10fc07a7row2_col0\" class=\"data row2 col0\" >Batmobile</td>\n",
       "                        <td id=\"T_ccaf2ae6_a64a_11e9_9c10_1f8f10fc07a7row2_col1\" class=\"data row2 col1\" >1000</td>\n",
       "                        <td id=\"T_ccaf2ae6_a64a_11e9_9c10_1f8f10fc07a7row2_col2\" class=\"data row2 col2\" >nan</td>\n",
       "                        <td id=\"T_ccaf2ae6_a64a_11e9_9c10_1f8f10fc07a7row2_col3\" class=\"data row2 col3\" >1</td>\n",
       "            </tr>\n",
       "            <tr>\n",
       "                                <td id=\"T_ccaf2ae6_a64a_11e9_9c10_1f8f10fc07a7row3_col0\" class=\"data row3 col0\" >Toyota Corolla</td>\n",
       "                        <td id=\"T_ccaf2ae6_a64a_11e9_9c10_1f8f10fc07a7row3_col1\" class=\"data row3 col1\" >120</td>\n",
       "                        <td id=\"T_ccaf2ae6_a64a_11e9_9c10_1f8f10fc07a7row3_col2\" class=\"data row3 col2\" >red</td>\n",
       "                        <td id=\"T_ccaf2ae6_a64a_11e9_9c10_1f8f10fc07a7row3_col3\" class=\"data row3 col3\" >1</td>\n",
       "            </tr>\n",
       "    </tbody></table>"
      ],
      "text/plain": [
       "<pandas.io.formats.style.Styler at 0x7f338e5dc748>"
      ]
     },
     "metadata": {},
     "output_type": "display_data"
    }
   ],
   "source": [
    "a = tidy_count(cars,return_df=True)"
   ]
  },
  {
   "cell_type": "code",
   "execution_count": 66,
   "metadata": {},
   "outputs": [
    {
     "data": {
      "text/html": [
       "<div>\n",
       "<style scoped>\n",
       "    .dataframe tbody tr th:only-of-type {\n",
       "        vertical-align: middle;\n",
       "    }\n",
       "\n",
       "    .dataframe tbody tr th {\n",
       "        vertical-align: top;\n",
       "    }\n",
       "\n",
       "    .dataframe thead th {\n",
       "        text-align: right;\n",
       "    }\n",
       "</style>\n",
       "<table border=\"1\" class=\"dataframe\">\n",
       "  <thead>\n",
       "    <tr style=\"text-align: right;\">\n",
       "      <th></th>\n",
       "      <th>name</th>\n",
       "      <th>hp</th>\n",
       "      <th>color</th>\n",
       "      <th>n</th>\n",
       "    </tr>\n",
       "  </thead>\n",
       "  <tbody>\n",
       "    <tr>\n",
       "      <th>2</th>\n",
       "      <td>Bike</td>\n",
       "      <td>NaN</td>\n",
       "      <td>blue</td>\n",
       "      <td>2</td>\n",
       "    </tr>\n",
       "    <tr>\n",
       "      <th>0</th>\n",
       "      <td>Batmobile</td>\n",
       "      <td>900.0</td>\n",
       "      <td>NaN</td>\n",
       "      <td>1</td>\n",
       "    </tr>\n",
       "    <tr>\n",
       "      <th>1</th>\n",
       "      <td>Batmobile</td>\n",
       "      <td>1000.0</td>\n",
       "      <td>NaN</td>\n",
       "      <td>1</td>\n",
       "    </tr>\n",
       "    <tr>\n",
       "      <th>3</th>\n",
       "      <td>Toyota Corolla</td>\n",
       "      <td>120.0</td>\n",
       "      <td>red</td>\n",
       "      <td>1</td>\n",
       "    </tr>\n",
       "  </tbody>\n",
       "</table>\n",
       "</div>"
      ],
      "text/plain": [
       "             name      hp color  n\n",
       "2            Bike     NaN  blue  2\n",
       "0       Batmobile   900.0   NaN  1\n",
       "1       Batmobile  1000.0   NaN  1\n",
       "3  Toyota Corolla   120.0   red  1"
      ]
     },
     "execution_count": 66,
     "metadata": {},
     "output_type": "execute_result"
    }
   ],
   "source": [
    "a"
   ]
  },
  {
   "cell_type": "code",
   "execution_count": null,
   "metadata": {},
   "outputs": [],
   "source": []
  }
 ],
 "metadata": {
  "kernelspec": {
   "display_name": "Python 3",
   "language": "python",
   "name": "python3"
  },
  "language_info": {
   "codemirror_mode": {
    "name": "ipython",
    "version": 3
   },
   "file_extension": ".py",
   "mimetype": "text/x-python",
   "name": "python",
   "nbconvert_exporter": "python",
   "pygments_lexer": "ipython3",
   "version": "3.7.2"
  }
 },
 "nbformat": 4,
 "nbformat_minor": 2
}

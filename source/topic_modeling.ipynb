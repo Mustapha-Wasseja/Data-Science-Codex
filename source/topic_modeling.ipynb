{
 "cells": [
  {
   "cell_type": "raw",
   "metadata": {},
   "source": [
    "Topic modeling on state of union addresses. Documents downloaded from: http://www.nltk.org/nltk_data/"
   ]
  },
  {
   "cell_type": "code",
   "execution_count": 1,
   "metadata": {
    "collapsed": true
   },
   "outputs": [],
   "source": [
    "import os\n",
    "CORPUS_PATH = os.path.join('./documents/state_of_union')\n",
    "filenames = sorted([os.path.join(CORPUS_PATH, fn) for fn in os.listdir(CORPUS_PATH)])"
   ]
  },
  {
   "cell_type": "code",
   "execution_count": 36,
   "metadata": {},
   "outputs": [],
   "source": [
    "filenames[0]\n",
    "f = open(filenames[0],'r')\n",
    "test = f.read()\n",
    "#print(test)\n",
    "f.close()"
   ]
  },
  {
   "cell_type": "code",
   "execution_count": 37,
   "metadata": {
    "collapsed": true
   },
   "outputs": [],
   "source": [
    "from nltk.tokenize import RegexpTokenizer\n",
    "from stop_words import get_stop_words\n",
    "from nltk.stem.porter import PorterStemmer\n",
    "from gensim import corpora, models\n",
    "import gensim\n",
    "\n",
    "tokenizer = RegexpTokenizer(r'\\w+')\n",
    "\n",
    "# create English stop words list\n",
    "en_stop = get_stop_words('en')\n",
    "\n",
    "# Create p_stemmer of class PorterStemmer\n",
    "p_stemmer = PorterStemmer()\n",
    "    \n",
    "#Our Document\n",
    "filenames\n",
    "\n",
    "# list for tokenized documents in loop\n",
    "texts = []\n",
    "\n",
    "# loop through document list\n",
    "for i in filenames:\n",
    "    \n",
    "    # Open file\n",
    "    file = open(i,'r')\n",
    "    \n",
    "    # clean and tokenize document text\n",
    "    tokens = tokenizer.tokenize(file.read().lower())\n",
    "\n",
    "    # remove stop words from tokens\n",
    "    stopped_tokens = [i for i in tokens if not i in en_stop]\n",
    "    \n",
    "    # stem tokens\n",
    "    stemmed_tokens = [p_stemmer.stem(i) for i in stopped_tokens]\n",
    "    \n",
    "    # add tokens to list\n",
    "    texts.append(stemmed_tokens)\n",
    "\n",
    "# turn our tokenized documents into a id <-> term dictionary\n",
    "dictionary = corpora.Dictionary(texts)\n",
    "    \n",
    "# convert tokenized documents into a document-term matrix\n",
    "corpus = [dictionary.doc2bow(text) for text in texts]\n",
    "\n",
    "# generate LDA model\n",
    "ldamodel = gensim.models.ldamodel.LdaModel(corpus, num_topics=2, id2word = dictionary, passes=20)"
   ]
  },
  {
   "cell_type": "code",
   "execution_count": 51,
   "metadata": {},
   "outputs": [
    {
     "data": {
      "text/plain": [
       "65"
      ]
     },
     "execution_count": 51,
     "metadata": {},
     "output_type": "execute_result"
    }
   ],
   "source": [
    "len(corpus)"
   ]
  },
  {
   "cell_type": "code",
   "execution_count": 67,
   "metadata": {},
   "outputs": [],
   "source": [
    "# Function to display the words in each topic\n",
    "def print_topic_words(ldamodel,n_topics,n_words):\n",
    "    for i in ldamodel.print_topics(num_topics=n_topics, num_words=n_words):\n",
    "        print(i[1])"
   ]
  },
  {
   "cell_type": "code",
   "execution_count": 52,
   "metadata": {
    "collapsed": false
   },
   "outputs": [
    {
     "name": "stdout",
     "output_type": "stream",
     "text": [
      "[(0, '0.014*\"will\" + 0.010*\"nation\" + 0.009*\"year\"'), (1, '0.017*\"will\" + 0.012*\"nation\" + 0.010*\"year\"'), (2, '0.014*\"will\" + 0.013*\"s\" + 0.010*\"american\"')]\n"
     ]
    }
   ],
   "source": [
    "ldamodel = gensim.models.ldamodel.LdaModel(corpus, num_topics=3, id2word = dictionary, passes=20)\n",
    "print_topic_words(ldamodel,3,3)"
   ]
  },
  {
   "cell_type": "code",
   "execution_count": 68,
   "metadata": {
    "collapsed": false
   },
   "outputs": [
    {
     "name": "stdout",
     "output_type": "stream",
     "text": [
      "0.006*\"20th\" + 0.006*\"255\" + 0.004*\"underdevelop\" + 0.003*\"downturn\" + 0.003*\"midpoint\" + 0.003*\"ceonom\"\n",
      "0.019*\"s\" + 0.014*\"will\" + 0.011*\"year\" + 0.009*\"america\" + 0.009*\"us\" + 0.009*\"american\"\n",
      "0.000*\"s\" + 0.000*\"will\" + 0.000*\"american\" + 0.000*\"can\" + 0.000*\"nation\" + 0.000*\"peopl\"\n",
      "0.000*\"will\" + 0.000*\"nation\" + 0.000*\"year\" + 0.000*\"s\" + 0.000*\"world\" + 0.000*\"must\"\n",
      "0.015*\"will\" + 0.011*\"year\" + 0.010*\"nation\" + 0.010*\"program\" + 0.008*\"govern\" + 0.007*\"must\"\n",
      "0.000*\"will\" + 0.000*\"year\" + 0.000*\"nation\" + 0.000*\"must\" + 0.000*\"american\" + 0.000*\"can\"\n",
      "0.000*\"will\" + 0.000*\"nation\" + 0.000*\"must\" + 0.000*\"year\" + 0.000*\"s\" + 0.000*\"peopl\"\n",
      "0.016*\"will\" + 0.015*\"nation\" + 0.014*\"world\" + 0.013*\"free\" + 0.009*\"can\" + 0.009*\"need\"\n",
      "0.000*\"will\" + 0.000*\"year\" + 0.000*\"nation\" + 0.000*\"s\" + 0.000*\"must\" + 0.000*\"can\"\n",
      "0.000*\"will\" + 0.000*\"year\" + 0.000*\"nation\" + 0.000*\"congress\" + 0.000*\"new\" + 0.000*\"must\"\n",
      "0.015*\"will\" + 0.013*\"nation\" + 0.011*\"world\" + 0.009*\"must\" + 0.008*\"year\" + 0.008*\"peopl\"\n",
      "0.009*\"1776\" + 0.003*\"trampl\" + 0.003*\"repris\" + 0.003*\"misde\" + 0.003*\"395\" + 0.003*\"megaton\"\n",
      "0.000*\"will\" + 0.000*\"year\" + 0.000*\"nation\" + 0.000*\"new\" + 0.000*\"s\" + 0.000*\"peopl\"\n",
      "0.000*\"will\" + 0.000*\"s\" + 0.000*\"year\" + 0.000*\"can\" + 0.000*\"nation\" + 0.000*\"american\"\n",
      "0.014*\"s\" + 0.012*\"peopl\" + 0.011*\"will\" + 0.011*\"work\" + 0.011*\"year\" + 0.010*\"american\"\n",
      "0.012*\"will\" + 0.010*\"new\" + 0.010*\"nation\" + 0.009*\"make\" + 0.009*\"defens\" + 0.008*\"space\"\n",
      "0.017*\"right\" + 0.014*\"govern\" + 0.014*\"american\" + 0.013*\"will\" + 0.011*\"peopl\" + 0.010*\"us\"\n",
      "0.000*\"will\" + 0.000*\"nation\" + 0.000*\"year\" + 0.000*\"must\" + 0.000*\"can\" + 0.000*\"world\"\n",
      "0.000*\"will\" + 0.000*\"must\" + 0.000*\"nation\" + 0.000*\"year\" + 0.000*\"s\" + 0.000*\"america\"\n",
      "0.005*\"stunt\" + 0.005*\"infring\" + 0.005*\"seal\" + 0.004*\"stir\" + 0.003*\"sincer\" + 0.003*\"dishonor\"\n",
      "0.020*\"will\" + 0.013*\"america\" + 0.011*\"year\" + 0.011*\"american\" + 0.010*\"must\" + 0.009*\"nation\"\n",
      "0.023*\"will\" + 0.012*\"us\" + 0.010*\"american\" + 0.009*\"nation\" + 0.009*\"must\" + 0.009*\"s\"\n",
      "0.000*\"will\" + 0.000*\"nation\" + 0.000*\"american\" + 0.000*\"peopl\" + 0.000*\"year\" + 0.000*\"can\"\n",
      "0.000*\"will\" + 0.000*\"s\" + 0.000*\"new\" + 0.000*\"must\" + 0.000*\"nation\" + 0.000*\"year\"\n",
      "0.000*\"will\" + 0.000*\"year\" + 0.000*\"nation\" + 0.000*\"must\" + 0.000*\"world\" + 0.000*\"american\"\n"
     ]
    }
   ],
   "source": [
    "ldamodel = gensim.models.ldamodel.LdaModel(corpus, num_topics=25, id2word = dictionary, passes=20)\n",
    "print_topic_words(ldamodel,25,6)"
   ]
  },
  {
   "cell_type": "code",
   "execution_count": null,
   "metadata": {},
   "outputs": [],
   "source": []
  }
 ],
 "metadata": {
  "kernelspec": {
   "display_name": "Python 3",
   "language": "python",
   "name": "python3"
  },
  "language_info": {
   "codemirror_mode": {
    "name": "ipython",
    "version": 3
   },
   "file_extension": ".py",
   "mimetype": "text/x-python",
   "name": "python",
   "nbconvert_exporter": "python",
   "pygments_lexer": "ipython3",
   "version": "3.6.8"
  }
 },
 "nbformat": 4,
 "nbformat_minor": 2
}

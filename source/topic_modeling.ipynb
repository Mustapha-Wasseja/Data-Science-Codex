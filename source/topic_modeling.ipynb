{
 "cells": [
  {
   "cell_type": "raw",
   "metadata": {},
   "source": [
    "Topic modeling on state of union addresses. Documents downloaded from: http://www.nltk.org/nltk_data/"
   ]
  },
  {
   "cell_type": "code",
   "execution_count": 1,
   "metadata": {
    "collapsed": true
   },
   "outputs": [],
   "source": [
    "import os\n",
    "CORPUS_PATH = os.path.join('./documents/state_of_union')\n",
    "filenames = sorted([os.path.join(CORPUS_PATH, fn) for fn in os.listdir(CORPUS_PATH)])\n",
    "\n",
    "# Function to display the words in each topic\n",
    "def print_topic_words(ldamodel,n_topics,n_words):\n",
    "    for i in ldamodel.print_topics(num_topics=n_topics, num_words=n_words):\n",
    "        print(i[1])"
   ]
  },
  {
   "cell_type": "code",
   "execution_count": 38,
   "metadata": {
    "collapsed": true
   },
   "outputs": [],
   "source": [
    "from nltk.tokenize import RegexpTokenizer\n",
    "from stop_words import get_stop_words\n",
    "from nltk.stem.porter import PorterStemmer\n",
    "from gensim import corpora, models\n",
    "import gensim\n",
    "\n",
    "tokenizer = RegexpTokenizer(r'\\w+')\n",
    "\n",
    "# create English stop words list\n",
    "en_stop = get_stop_words('en')\n",
    "en_stop.append(['will','can','must','s'])\n",
    "\n",
    "# Create p_stemmer of class PorterStemmer\n",
    "p_stemmer = PorterStemmer()\n",
    "    \n",
    "#Our Document\n",
    "filenames\n",
    "\n",
    "# list for tokenized documents in loop\n",
    "texts = []\n",
    "\n",
    "# Non-tokenized texts\n",
    "texts_nt = []\n",
    "\n",
    "# loop through document list\n",
    "for k in filenames:\n",
    "    \n",
    "    file = open(k,'r') # open file\n",
    "    \n",
    "    # clean and tokenize document text\n",
    "    raw_text = file.read().lower()\n",
    "    \n",
    "    tokens = tokenizer.tokenize(raw_text)\n",
    "    \n",
    "\n",
    "    # remove stop words from tokens\n",
    "    stopped_tokens = [i for i in tokens if not i in en_stop]\n",
    "    \n",
    "    # stem tokens\n",
    "    stemmed_tokens = [p_stemmer.stem(i) for i in stopped_tokens]\n",
    "    \n",
    "    # add tokens to list\n",
    "    texts.append(stemmed_tokens)\n",
    "    texts_nt.append(raw_text)\n",
    "    \n",
    "    file.close() # close file\n",
    "\n",
    "# turn our tokenized documents into a id <-> term dictionary\n",
    "dictionary = corpora.Dictionary(texts)\n",
    "    \n",
    "# convert tokenized documents into a document-term matrix\n",
    "corpus = [dictionary.doc2bow(text) for text in texts]\n",
    "\n",
    "# generate LDA model\n",
    "ldamodel = gensim.models.ldamodel.LdaModel(corpus, num_topics=2, id2word = dictionary, passes=20)"
   ]
  },
  {
   "cell_type": "code",
   "execution_count": 4,
   "metadata": {
    "collapsed": false
   },
   "outputs": [
    {
     "name": "stdout",
     "output_type": "stream",
     "text": [
      "0.000*\"must\" + 0.000*\"year\" + 0.000*\"peopl\" + 0.000*\"american\" + 0.000*\"america\" + 0.000*\"world\"\n",
      "0.000*\"year\" + 0.000*\"nation\" + 0.000*\"must\" + 0.000*\"world\" + 0.000*\"congress\" + 0.000*\"new\"\n",
      "0.013*\"world\" + 0.009*\"american\" + 0.008*\"us\" + 0.008*\"nation\" + 0.007*\"let\" + 0.007*\"must\"\n",
      "0.000*\"year\" + 0.000*\"nation\" + 0.000*\"state\" + 0.000*\"dollar\" + 0.000*\"program\" + 0.000*\"govern\"\n",
      "0.014*\"nation\" + 0.009*\"must\" + 0.009*\"world\" + 0.008*\"year\" + 0.007*\"program\" + 0.007*\"congress\"\n",
      "0.017*\"program\" + 0.011*\"tax\" + 0.009*\"year\" + 0.009*\"billion\" + 0.009*\"govern\" + 0.007*\"now\"\n",
      "0.000*\"nation\" + 0.000*\"year\" + 0.000*\"peopl\" + 0.000*\"must\" + 0.000*\"world\" + 0.000*\"govern\"\n",
      "0.011*\"year\" + 0.011*\"american\" + 0.010*\"america\" + 0.009*\"peopl\" + 0.009*\"must\" + 0.007*\"work\"\n",
      "0.014*\"year\" + 0.012*\"war\" + 0.011*\"dollar\" + 0.009*\"million\" + 0.009*\"nation\" + 0.008*\"program\"\n",
      "0.011*\"nation\" + 0.010*\"us\" + 0.007*\"unit\" + 0.006*\"let\" + 0.006*\"american\" + 0.006*\"one\"\n"
     ]
    }
   ],
   "source": [
    "ldamodel = gensim.models.ldamodel.LdaModel(corpus, num_topics=10, id2word = dictionary, passes=50)\n",
    "print_topic_words(ldamodel,10,6)"
   ]
  },
  {
   "cell_type": "markdown",
   "metadata": {},
   "source": [
    "Using sklearn version of LDA instead: https://scikit-learn.org/stable/auto_examples/applications/plot_topics_extraction_with_nmf_lda.html#sphx-glr-auto-examples-applications-plot-topics-extraction-with-nmf-lda-py "
   ]
  },
  {
   "cell_type": "code",
   "execution_count": 19,
   "metadata": {},
   "outputs": [],
   "source": [
    "#texts[0]"
   ]
  },
  {
   "cell_type": "code",
   "execution_count": 53,
   "metadata": {},
   "outputs": [
    {
     "data": {
      "text/plain": [
       "LatentDirichletAllocation(batch_size=128, doc_topic_prior=None,\n",
       "             evaluate_every=-1, learning_decay=0.7,\n",
       "             learning_method='online', learning_offset=10.0,\n",
       "             max_doc_update_iter=100, max_iter=50, mean_change_tol=0.001,\n",
       "             n_components=3, n_jobs=None, n_topics=None, perp_tol=0.1,\n",
       "             random_state=None, topic_word_prior=None,\n",
       "             total_samples=1000000.0, verbose=0)"
      ]
     },
     "execution_count": 53,
     "metadata": {},
     "output_type": "execute_result"
    }
   ],
   "source": [
    "from sklearn.decomposition import LatentDirichletAllocation\n",
    "from sklearn.feature_extraction.text import CountVectorizer\n",
    "\n",
    "tf_vectorizer = CountVectorizer(max_df=0.95, min_df=2,\n",
    "                                stop_words='english')\n",
    "\n",
    "tf = tf_vectorizer.fit_transform(texts_nt) # feed untransformed text to vectorizer\n",
    "\n",
    "sklda = LatentDirichletAllocation(n_components=3,max_iter=50,\n",
    "                                learning_method='online',\n",
    "                               # learning_offset=50.,\n",
    "                              #  random_state=0\n",
    "                                 )\n",
    "sklda.fit(tf)"
   ]
  },
  {
   "cell_type": "code",
   "execution_count": 56,
   "metadata": {},
   "outputs": [
    {
     "name": "stdout",
     "output_type": "stream",
     "text": [
      "Topic #0: applause americans tonight let children ask ve budget care just tax health right want economy\n",
      "Topic #1: federal program war economic free billion dollars programs shall million defense military economy tax strength\n",
      "Topic #2: americans program tax federal economic war applause free long defense right economy budget children programs\n",
      "\n"
     ]
    }
   ],
   "source": [
    "n_top_words = 15\n",
    "\n",
    "def print_top_words(model, feature_names, n_top_words):\n",
    "    for topic_idx, topic in enumerate(model.components_):\n",
    "        message = \"Topic #%d: \" % topic_idx\n",
    "        message += \" \".join([feature_names[i]\n",
    "                             for i in topic.argsort()[:-n_top_words - 1:-1]])\n",
    "        print(message)\n",
    "    print()\n",
    "\n",
    "tf_feature_names = tf_vectorizer.get_feature_names()\n",
    "print_top_words(sklda, tf_feature_names, n_top_words)"
   ]
  },
  {
   "cell_type": "code",
   "execution_count": 58,
   "metadata": {
    "collapsed": false
   },
   "outputs": [
    {
     "name": "stdout",
     "output_type": "stream",
     "text": [
      "0.010*\"american\" + 0.010*\"year\" + 0.010*\"america\" + 0.009*\"must\" + 0.009*\"peopl\" + 0.008*\"work\" + 0.007*\"nation\"\n",
      "0.013*\"nation\" + 0.009*\"must\" + 0.008*\"world\" + 0.007*\"year\" + 0.006*\"peopl\" + 0.006*\"govern\" + 0.006*\"program\"\n",
      "0.013*\"year\" + 0.011*\"war\" + 0.011*\"dollar\" + 0.009*\"million\" + 0.009*\"govern\" + 0.008*\"nation\" + 0.008*\"program\"\n"
     ]
    }
   ],
   "source": [
    "ldamodel = gensim.models.ldamodel.LdaModel(corpus, num_topics=4, id2word = dictionary, passes=30)\n",
    "print_topic_words(ldamodel,3,7)"
   ]
  },
  {
   "cell_type": "code",
   "execution_count": null,
   "metadata": {},
   "outputs": [],
   "source": []
  }
 ],
 "metadata": {
  "kernelspec": {
   "display_name": "Python 3",
   "language": "python",
   "name": "python3"
  },
  "language_info": {
   "codemirror_mode": {
    "name": "ipython",
    "version": 3
   },
   "file_extension": ".py",
   "mimetype": "text/x-python",
   "name": "python",
   "nbconvert_exporter": "python",
   "pygments_lexer": "ipython3",
   "version": "3.6.8"
  }
 },
 "nbformat": 4,
 "nbformat_minor": 2
}

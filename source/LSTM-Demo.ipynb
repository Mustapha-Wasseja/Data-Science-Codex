{
 "cells": [
  {
   "cell_type": "markdown",
   "metadata": {},
   "source": [
    "Download employee_reviews.csv from https://www.kaggle.com/petersunga/google-amazon-facebook-employee-reviews"
   ]
  },
  {
   "cell_type": "code",
   "execution_count": 102,
   "metadata": {},
   "outputs": [],
   "source": [
    "import numpy as np\n",
    "import pandas as pd\n",
    "import seaborn as sns\n",
    "import matplotlib.pyplot as plt\n",
    "# show plots\n",
    "%matplotlib inline \n",
    "from scipy import stats\n",
    "from keras.datasets import imdb\n",
    "from keras.models import Sequential\n",
    "from keras.layers import Dense\n",
    "from keras.layers import LSTM\n",
    "from keras.layers.embeddings import Embedding\n",
    "from keras.preprocessing import sequence\n",
    "import numpy as np\n",
    "from sklearn.model_selection import train_test_split\n",
    "# fix random seed for reproducibility\n",
    "numpy.random.seed(7)\n",
    "\n",
    "# keep the top n words, zero the rest\n",
    "# this is used for tokenizer and embedding\n",
    "top_words = 5000\n",
    "\n",
    "from keras.preprocessing.text import Tokenizer"
   ]
  },
  {
   "cell_type": "markdown",
   "metadata": {},
   "source": [
    "https://machinelearningmastery.com/sequence-classification-lstm-recurrent-neural-networks-python-keras/"
   ]
  },
  {
   "cell_type": "code",
   "execution_count": 14,
   "metadata": {},
   "outputs": [],
   "source": [
    "# Load data\n",
    "reviews = pd.read_csv('employee_reviews.csv')\n",
    "reviews['overall-ratings'] = reviews['overall-ratings'].astype(int) # convert to int\n",
    "# Create binary flag for if the review was positive (4+)\n",
    "reviews['pos_ovr'] = False\n",
    "reviews.loc[reviews['overall-ratings'] >= 4,'pos_ovr'] = True"
   ]
  },
  {
   "cell_type": "code",
   "execution_count": 6,
   "metadata": {},
   "outputs": [],
   "source": [
    "#reviews.dtypes"
   ]
  },
  {
   "cell_type": "code",
   "execution_count": 98,
   "metadata": {},
   "outputs": [
    {
     "data": {
      "text/html": [
       "<div>\n",
       "<style scoped>\n",
       "    .dataframe tbody tr th:only-of-type {\n",
       "        vertical-align: middle;\n",
       "    }\n",
       "\n",
       "    .dataframe tbody tr th {\n",
       "        vertical-align: top;\n",
       "    }\n",
       "\n",
       "    .dataframe thead th {\n",
       "        text-align: right;\n",
       "    }\n",
       "</style>\n",
       "<table border=\"1\" class=\"dataframe\">\n",
       "  <thead>\n",
       "    <tr style=\"text-align: right;\">\n",
       "      <th></th>\n",
       "      <th>Unnamed: 0</th>\n",
       "      <th>company</th>\n",
       "      <th>location</th>\n",
       "      <th>dates</th>\n",
       "      <th>job-title</th>\n",
       "      <th>summary</th>\n",
       "      <th>pros</th>\n",
       "      <th>cons</th>\n",
       "      <th>advice-to-mgmt</th>\n",
       "      <th>overall-ratings</th>\n",
       "      <th>work-balance-stars</th>\n",
       "      <th>culture-values-stars</th>\n",
       "      <th>carrer-opportunities-stars</th>\n",
       "      <th>comp-benefit-stars</th>\n",
       "      <th>senior-mangemnet-stars</th>\n",
       "      <th>helpful-count</th>\n",
       "      <th>link</th>\n",
       "      <th>pos_ovr</th>\n",
       "    </tr>\n",
       "  </thead>\n",
       "  <tbody>\n",
       "    <tr>\n",
       "      <th>9345</th>\n",
       "      <td>9346</td>\n",
       "      <td>amazon</td>\n",
       "      <td>none</td>\n",
       "      <td>Aug 21, 2018</td>\n",
       "      <td>Former Employee - Anonymous Employee</td>\n",
       "      <td>Fulfillment Associate</td>\n",
       "      <td>Voluntary over time, voluntary time off</td>\n",
       "      <td>10+ hour days on your feet.</td>\n",
       "      <td>none</td>\n",
       "      <td>3</td>\n",
       "      <td>3.0</td>\n",
       "      <td>3.0</td>\n",
       "      <td>1.0</td>\n",
       "      <td>3.0</td>\n",
       "      <td>4.0</td>\n",
       "      <td>0</td>\n",
       "      <td>https://www.glassdoor.com/Reviews/Amazon-Revie...</td>\n",
       "      <td>False</td>\n",
       "    </tr>\n",
       "    <tr>\n",
       "      <th>60586</th>\n",
       "      <td>60587</td>\n",
       "      <td>microsoft</td>\n",
       "      <td>Redmond, WA</td>\n",
       "      <td>Nov 22, 2010</td>\n",
       "      <td>Current Employee - Intl Project Engineer</td>\n",
       "      <td>International Project Engineer</td>\n",
       "      <td>One of the best reasons to work at Microsoft i...</td>\n",
       "      <td>One potential downside working at Microsoft ca...</td>\n",
       "      <td>Something that would really make a difference ...</td>\n",
       "      <td>3</td>\n",
       "      <td>3.0</td>\n",
       "      <td>none</td>\n",
       "      <td>3.0</td>\n",
       "      <td>3.0</td>\n",
       "      <td>3.0</td>\n",
       "      <td>0</td>\n",
       "      <td>https://www.glassdoor.com/Reviews/Microsoft-Re...</td>\n",
       "      <td>False</td>\n",
       "    </tr>\n",
       "    <tr>\n",
       "      <th>7716</th>\n",
       "      <td>7717</td>\n",
       "      <td>google</td>\n",
       "      <td>none</td>\n",
       "      <td>May 10, 2009</td>\n",
       "      <td>Former Employee - Accountant</td>\n",
       "      <td>Great place</td>\n",
       "      <td>I've also heard about how Google's stack ranki...</td>\n",
       "      <td>A few years ago during the internet boom we al...</td>\n",
       "      <td>Is Google a utopian work envionment that dishe...</td>\n",
       "      <td>5</td>\n",
       "      <td>5.0</td>\n",
       "      <td>none</td>\n",
       "      <td>5.0</td>\n",
       "      <td>5.0</td>\n",
       "      <td>5.0</td>\n",
       "      <td>2</td>\n",
       "      <td>https://www.glassdoor.com/Reviews/Google-Revie...</td>\n",
       "      <td>True</td>\n",
       "    </tr>\n",
       "  </tbody>\n",
       "</table>\n",
       "</div>"
      ],
      "text/plain": [
       "       Unnamed: 0    company     location          dates  \\\n",
       "9345         9346     amazon         none   Aug 21, 2018   \n",
       "60586       60587  microsoft  Redmond, WA   Nov 22, 2010   \n",
       "7716         7717     google         none   May 10, 2009   \n",
       "\n",
       "                                      job-title  \\\n",
       "9345       Former Employee - Anonymous Employee   \n",
       "60586  Current Employee - Intl Project Engineer   \n",
       "7716               Former Employee - Accountant   \n",
       "\n",
       "                              summary  \\\n",
       "9345            Fulfillment Associate   \n",
       "60586  International Project Engineer   \n",
       "7716                      Great place   \n",
       "\n",
       "                                                    pros  \\\n",
       "9345             Voluntary over time, voluntary time off   \n",
       "60586  One of the best reasons to work at Microsoft i...   \n",
       "7716   I've also heard about how Google's stack ranki...   \n",
       "\n",
       "                                                    cons  \\\n",
       "9345                         10+ hour days on your feet.   \n",
       "60586  One potential downside working at Microsoft ca...   \n",
       "7716   A few years ago during the internet boom we al...   \n",
       "\n",
       "                                          advice-to-mgmt  overall-ratings  \\\n",
       "9345                                                none                3   \n",
       "60586  Something that would really make a difference ...                3   \n",
       "7716   Is Google a utopian work envionment that dishe...                5   \n",
       "\n",
       "      work-balance-stars culture-values-stars carrer-opportunities-stars  \\\n",
       "9345                 3.0                  3.0                        1.0   \n",
       "60586                3.0                 none                        3.0   \n",
       "7716                 5.0                 none                        5.0   \n",
       "\n",
       "      comp-benefit-stars senior-mangemnet-stars  helpful-count  \\\n",
       "9345                 3.0                    4.0              0   \n",
       "60586                3.0                    3.0              0   \n",
       "7716                 5.0                    5.0              2   \n",
       "\n",
       "                                                    link  pos_ovr  \n",
       "9345   https://www.glassdoor.com/Reviews/Amazon-Revie...    False  \n",
       "60586  https://www.glassdoor.com/Reviews/Microsoft-Re...    False  \n",
       "7716   https://www.glassdoor.com/Reviews/Google-Revie...     True  "
      ]
     },
     "execution_count": 98,
     "metadata": {},
     "output_type": "execute_result"
    }
   ],
   "source": [
    "reviews.sample(3)"
   ]
  },
  {
   "cell_type": "code",
   "execution_count": 66,
   "metadata": {},
   "outputs": [],
   "source": [
    "# CV split\n",
    "X_train, X_test, y_train, y_test = train_test_split(reviews['pros'] + ' ' + reviews['cons'], reviews['pos_ovr'],\n",
    "        test_size=0.33, random_state=42)"
   ]
  },
  {
   "cell_type": "code",
   "execution_count": 103,
   "metadata": {},
   "outputs": [],
   "source": [
    "tkizer = Tokenizer(num_words=top_words) # initialize\n",
    "# fit the tokenizer object on the documents\n",
    "tkizer.fit_on_texts(X_train.tolist() + X_test.tolist())"
   ]
  },
  {
   "cell_type": "code",
   "execution_count": 104,
   "metadata": {},
   "outputs": [],
   "source": [
    "# Tokenize into sequences\n",
    "X_train_tokens = tkizer.texts_to_sequences(X_train)\n",
    "X_test_tokens = tkizer.texts_to_sequences(X_test)"
   ]
  },
  {
   "cell_type": "code",
   "execution_count": 105,
   "metadata": {},
   "outputs": [],
   "source": [
    "# Find word count for each document\n",
    "token_lengths = [len(x) for x in X_train_tokens] + [len(x) for x in X_test_tokens]"
   ]
  },
  {
   "cell_type": "code",
   "execution_count": 106,
   "metadata": {},
   "outputs": [
    {
     "data": {
      "text/plain": [
       "(0, 500)"
      ]
     },
     "execution_count": 106,
     "metadata": {},
     "output_type": "execute_result"
    },
    {
     "data": {
      "image/png": "[encoded data removed]",
      "text/plain": [
       "<Figure size 432x288 with 1 Axes>"
      ]
     },
     "metadata": {
      "needs_background": "light"
     },
     "output_type": "display_data"
    }
   ],
   "source": [
    "sns.distplot(token_lengths, hist=False, rug=False)\n",
    "plt.xlim(0, 500)"
   ]
  },
  {
   "cell_type": "code",
   "execution_count": 107,
   "metadata": {},
   "outputs": [
    {
     "data": {
      "text/plain": [
       "45244"
      ]
     },
     "execution_count": 107,
     "metadata": {},
     "output_type": "execute_result"
    }
   ],
   "source": [
    "len(X_train)"
   ]
  },
  {
   "cell_type": "code",
   "execution_count": 81,
   "metadata": {},
   "outputs": [],
   "source": [
    "#tkizer.word_index"
   ]
  },
  {
   "cell_type": "code",
   "execution_count": 108,
   "metadata": {},
   "outputs": [],
   "source": [
    "# truncate and pad input sequences\n",
    "max_review_length = 300 # maximum number of words we look at in a review\n",
    "X_train_pad = sequence.pad_sequences(X_train_tokens, maxlen=max_review_length)\n",
    "X_test_pad = sequence.pad_sequences(X_test_tokens, maxlen=max_review_length)"
   ]
  },
  {
   "cell_type": "code",
   "execution_count": 109,
   "metadata": {},
   "outputs": [
    {
     "name": "stdout",
     "output_type": "stream",
     "text": [
      "_________________________________________________________________\n",
      "Layer (type)                 Output Shape              Param #   \n",
      "=================================================================\n",
      "embedding_2 (Embedding)      (None, 300, 32)           160000    \n",
      "_________________________________________________________________\n",
      "lstm_2 (LSTM)                (None, 100)               53200     \n",
      "_________________________________________________________________\n",
      "dense_2 (Dense)              (None, 1)                 101       \n",
      "=================================================================\n",
      "Total params: 213,301\n",
      "Trainable params: 213,301\n",
      "Non-trainable params: 0\n",
      "_________________________________________________________________\n",
      "None\n",
      "Train on 45244 samples, validate on 22285 samples\n",
      "Epoch 1/3\n",
      "45244/45244 [==============================] - 84s 2ms/step - loss: 0.5744 - acc: 0.7032 - val_loss: 0.5453 - val_acc: 0.7156\n",
      "Epoch 2/3\n",
      "45244/45244 [==============================] - 87s 2ms/step - loss: 0.4894 - acc: 0.7642 - val_loss: 0.4872 - val_acc: 0.7744\n",
      "Epoch 3/3\n",
      "45244/45244 [==============================] - 84s 2ms/step - loss: 0.4477 - acc: 0.7938 - val_loss: 0.4925 - val_acc: 0.7731\n"
     ]
    },
    {
     "data": {
      "text/plain": [
       "<keras.callbacks.History at 0x1860c635b70>"
      ]
     },
     "execution_count": 109,
     "metadata": {},
     "output_type": "execute_result"
    }
   ],
   "source": [
    "# create the model\n",
    "embedding_vecor_length = 32\n",
    "\n",
    "model = Sequential()\n",
    "model.add(Embedding(top_words, embedding_vecor_length, input_length=max_review_length))\n",
    "model.add(LSTM(100))\n",
    "model.add(Dense(1, activation='sigmoid'))\n",
    "model.compile(loss='binary_crossentropy', optimizer='adam', metrics=['accuracy'])\n",
    "print(model.summary())\n",
    "model.fit(X_train_pad, y_train, validation_data=(X_test_pad, y_test), epochs=3, batch_size=256)"
   ]
  },
  {
   "cell_type": "code",
   "execution_count": null,
   "metadata": {},
   "outputs": [],
   "source": []
  }
 ],
 "metadata": {
  "kernelspec": {
   "display_name": "Python 3",
   "language": "python",
   "name": "python3"
  },
  "language_info": {
   "codemirror_mode": {
    "name": "ipython",
    "version": 3
   },
   "file_extension": ".py",
   "mimetype": "text/x-python",
   "name": "python",
   "nbconvert_exporter": "python",
   "pygments_lexer": "ipython3",
   "version": "3.7.1"
  }
 },
 "nbformat": 4,
 "nbformat_minor": 2
}

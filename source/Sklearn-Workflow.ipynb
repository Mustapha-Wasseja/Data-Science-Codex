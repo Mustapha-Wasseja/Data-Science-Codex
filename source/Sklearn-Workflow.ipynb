{
 "cells": [
  {
   "cell_type": "markdown",
   "metadata": {},
   "source": [
    "## Sklearn Modeling Workflow\n",
    "\n",
    "An example of using Sklearn to perform cross validation and create models for a binary outcome (survived titanic). Hyperparameters are trained with random search. \n",
    "\n",
    "Lift curves are generated for analyzing the results."
   ]
  },
  {
   "cell_type": "code",
   "execution_count": 1,
   "metadata": {},
   "outputs": [],
   "source": [
    "import logging\n",
    "import pandas as pd\n",
    "import joblib\n",
    "import numpy as np\n",
    "logging.basicConfig(format='%(asctime)s : %(levelname)s : %(message)s', level=logging.ERROR)\n",
    "import matplotlib.pyplot as plt\n",
    "%matplotlib inline\n",
    "from sklearn import metrics\n",
    "from sklearn.metrics import classification_report\n",
    "import time\n",
    "from sklearn.model_selection import train_test_split\n",
    "from sklearn.preprocessing import StandardScaler\n",
    "from sklearn.decomposition import PCA\n",
    "from sklearn.pipeline import Pipeline\n",
    "from sklearn.linear_model import LogisticRegression\n",
    "from sklearn import svm\n",
    "from sklearn import tree\n",
    "from sklearn.ensemble import RandomForestClassifier\n",
    "from sklearn.model_selection import GridSearchCV,StratifiedKFold,cross_val_score,RandomizedSearchCV\n",
    "from sklearn.metrics import accuracy_score, brier_score_loss\n",
    "from sklearn.preprocessing import MinMaxScaler,RobustScaler\n",
    "from sklearn.neural_network import MLPClassifier\n",
    "from scipy.stats import randint as sp_randint # use this random number generator for randomized grid search\n",
    "from scipy.stats import uniform as sp_uniform\n",
    "\n",
    "# Warning\n",
    "import warnings\n",
    "warnings.filterwarnings(\"ignore\")\n",
    "\n",
    "# Return a dataframe with a count column for specified group by variable(s)\n",
    "def count_groupby(df,groupbyvars):\n",
    "    return(df.groupby(groupbyvars).size().reset_index().rename(columns={0: 'n'}))\n",
    "\n",
    "pd.set_option('display.max_columns', 500)"
   ]
  },
  {
   "cell_type": "markdown",
   "metadata": {},
   "source": [
    "Load data"
   ]
  },
  {
   "cell_type": "code",
   "execution_count": 2,
   "metadata": {},
   "outputs": [],
   "source": [
    "import seaborn as sns\n",
    "titanic = sns.load_dataset('titanic')"
   ]
  },
  {
   "cell_type": "code",
   "execution_count": 3,
   "metadata": {},
   "outputs": [
    {
     "data": {
      "text/plain": [
       "(891, 15)"
      ]
     },
     "execution_count": 3,
     "metadata": {},
     "output_type": "execute_result"
    }
   ],
   "source": [
    "titanic.shape"
   ]
  },
  {
   "cell_type": "code",
   "execution_count": 4,
   "metadata": {},
   "outputs": [
    {
     "data": {
      "text/plain": [
       "survived          int64\n",
       "pclass            int64\n",
       "sex              object\n",
       "age             float64\n",
       "sibsp             int64\n",
       "parch             int64\n",
       "fare            float64\n",
       "embarked         object\n",
       "class          category\n",
       "who              object\n",
       "adult_male         bool\n",
       "deck           category\n",
       "embark_town      object\n",
       "alive            object\n",
       "alone              bool\n",
       "dtype: object"
      ]
     },
     "execution_count": 4,
     "metadata": {},
     "output_type": "execute_result"
    }
   ],
   "source": [
    "titanic.dtypes"
   ]
  },
  {
   "cell_type": "code",
   "execution_count": 5,
   "metadata": {},
   "outputs": [
    {
     "data": {
      "text/html": [
       "<div>\n",
       "<style scoped>\n",
       "    .dataframe tbody tr th:only-of-type {\n",
       "        vertical-align: middle;\n",
       "    }\n",
       "\n",
       "    .dataframe tbody tr th {\n",
       "        vertical-align: top;\n",
       "    }\n",
       "\n",
       "    .dataframe thead th {\n",
       "        text-align: right;\n",
       "    }\n",
       "</style>\n",
       "<table border=\"1\" class=\"dataframe\">\n",
       "  <thead>\n",
       "    <tr style=\"text-align: right;\">\n",
       "      <th></th>\n",
       "      <th>survived</th>\n",
       "      <th>pclass</th>\n",
       "      <th>sex</th>\n",
       "      <th>age</th>\n",
       "      <th>sibsp</th>\n",
       "      <th>parch</th>\n",
       "      <th>fare</th>\n",
       "      <th>embarked</th>\n",
       "      <th>class</th>\n",
       "      <th>who</th>\n",
       "      <th>adult_male</th>\n",
       "      <th>deck</th>\n",
       "      <th>embark_town</th>\n",
       "      <th>alive</th>\n",
       "      <th>alone</th>\n",
       "    </tr>\n",
       "  </thead>\n",
       "  <tbody>\n",
       "    <tr>\n",
       "      <td>0</td>\n",
       "      <td>0</td>\n",
       "      <td>3</td>\n",
       "      <td>male</td>\n",
       "      <td>22.0</td>\n",
       "      <td>1</td>\n",
       "      <td>0</td>\n",
       "      <td>7.2500</td>\n",
       "      <td>S</td>\n",
       "      <td>Third</td>\n",
       "      <td>man</td>\n",
       "      <td>True</td>\n",
       "      <td>NaN</td>\n",
       "      <td>Southampton</td>\n",
       "      <td>no</td>\n",
       "      <td>False</td>\n",
       "    </tr>\n",
       "    <tr>\n",
       "      <td>1</td>\n",
       "      <td>1</td>\n",
       "      <td>1</td>\n",
       "      <td>female</td>\n",
       "      <td>38.0</td>\n",
       "      <td>1</td>\n",
       "      <td>0</td>\n",
       "      <td>71.2833</td>\n",
       "      <td>C</td>\n",
       "      <td>First</td>\n",
       "      <td>woman</td>\n",
       "      <td>False</td>\n",
       "      <td>C</td>\n",
       "      <td>Cherbourg</td>\n",
       "      <td>yes</td>\n",
       "      <td>False</td>\n",
       "    </tr>\n",
       "    <tr>\n",
       "      <td>2</td>\n",
       "      <td>1</td>\n",
       "      <td>3</td>\n",
       "      <td>female</td>\n",
       "      <td>26.0</td>\n",
       "      <td>0</td>\n",
       "      <td>0</td>\n",
       "      <td>7.9250</td>\n",
       "      <td>S</td>\n",
       "      <td>Third</td>\n",
       "      <td>woman</td>\n",
       "      <td>False</td>\n",
       "      <td>NaN</td>\n",
       "      <td>Southampton</td>\n",
       "      <td>yes</td>\n",
       "      <td>True</td>\n",
       "    </tr>\n",
       "  </tbody>\n",
       "</table>\n",
       "</div>"
      ],
      "text/plain": [
       "   survived  pclass     sex   age  sibsp  parch     fare embarked  class  \\\n",
       "0         0       3    male  22.0      1      0   7.2500        S  Third   \n",
       "1         1       1  female  38.0      1      0  71.2833        C  First   \n",
       "2         1       3  female  26.0      0      0   7.9250        S  Third   \n",
       "\n",
       "     who  adult_male deck  embark_town alive  alone  \n",
       "0    man        True  NaN  Southampton    no  False  \n",
       "1  woman       False    C    Cherbourg   yes  False  \n",
       "2  woman       False  NaN  Southampton   yes   True  "
      ]
     },
     "execution_count": 5,
     "metadata": {},
     "output_type": "execute_result"
    }
   ],
   "source": [
    "titanic.head(3)"
   ]
  },
  {
   "cell_type": "code",
   "execution_count": 6,
   "metadata": {},
   "outputs": [],
   "source": [
    "# Test/Train split\n",
    "X_train, X_test, y_train, y_test = train_test_split(titanic[['adult_male','fare','alone']], \n",
    "                                                    titanic['survived'].values, \n",
    "                                                    test_size=0.20, random_state=42)"
   ]
  },
  {
   "cell_type": "markdown",
   "metadata": {},
   "source": [
    "## Run model pipelines"
   ]
  },
  {
   "cell_type": "code",
   "execution_count": 7,
   "metadata": {},
   "outputs": [
    {
     "name": "stdout",
     "output_type": "stream",
     "text": [
      "\n",
      "Estimator: Random Forest\n",
      "Best parameters: {'clf__criterion': 'entropy', 'clf__max_depth': 8, 'clf__max_features': 'sqrt', 'clf__min_samples_split': 12}\n",
      "Kfold CV Mean Brier Score Loss: 0.143\n",
      "Brier Score on Training Data: 0.097\n",
      "Test data accuracy: 0.793 \n",
      "Test brier score: 0.150\n",
      "Precision, recall & f1-score:\n",
      "               precision    recall  f1-score   support\n",
      "\n",
      "           0       0.81      0.85      0.83       105\n",
      "           1       0.77      0.72      0.74        74\n",
      "\n",
      "    accuracy                           0.79       179\n",
      "   macro avg       0.79      0.78      0.78       179\n",
      "weighted avg       0.79      0.79      0.79       179\n",
      "\n",
      "runtime: 4.920530796051025\n",
      "\n",
      "Estimator: Neural Network\n",
      "Best parameters: {'clf__alpha': 0.020584494295802447, 'clf__hidden_layer_sizes': (3,)}\n",
      "Kfold CV Mean Brier Score Loss: 0.158\n",
      "Brier Score on Training Data: 0.157\n",
      "Test data accuracy: 0.788 \n",
      "Test brier score: 0.161\n",
      "Precision, recall & f1-score:\n",
      "               precision    recall  f1-score   support\n",
      "\n",
      "           0       0.82      0.82      0.82       105\n",
      "           1       0.74      0.74      0.74        74\n",
      "\n",
      "    accuracy                           0.79       179\n",
      "   macro avg       0.78      0.78      0.78       179\n",
      "weighted avg       0.79      0.79      0.79       179\n",
      "\n",
      "runtime: 7.835153102874756\n"
     ]
    }
   ],
   "source": [
    "MySeed = 42\n",
    "# Grid Searches for each model:\n",
    "jobs = -1\n",
    "score_fn = 'brier_score_loss'\n",
    "Mycv = StratifiedKFold(n_splits=5, shuffle=True, random_state=MySeed)\n",
    "\n",
    "pipe_nn = Pipeline([\n",
    "    ('scaler', MinMaxScaler()),\n",
    "                    ('clf', MLPClassifier(random_state=MySeed,solver='adam',max_iter=300))\n",
    "                   ])\n",
    "\n",
    "pipe_rf = Pipeline([\n",
    "    ('scaler', RobustScaler()),\n",
    "                    ('clf', RandomForestClassifier(random_state=MySeed,n_estimators=100))\n",
    "                   ])\n",
    "\n",
    "\n",
    "# specify parameters and distributions to sample from\n",
    "rf_param_dist = {\n",
    "              \"clf__max_depth\": sp_randint(1, 10),\n",
    "        #      \"clf__max_features\": sp_randint(1, 11),\n",
    "              \"clf__min_samples_split\": sp_randint(2, 20),\n",
    "              \"clf__criterion\": [\"gini\", \"entropy\"],\n",
    "              'clf__max_features' : ['sqrt','log2']\n",
    "                }\n",
    "\n",
    "nn_param_dist = {'clf__hidden_layer_sizes': [(1,),(3,),(5,)],\n",
    "       #     'clf__learning_rate': ['constant'],\n",
    "        #    'clf__solver' : ['adam'],\n",
    "        #    'clf__activation': ['relu'],\n",
    "            'clf__alpha' : sp_uniform(0.0,1)\n",
    "                }\n",
    "\n",
    "# Randomized Search objects\n",
    "gs_rf = RandomizedSearchCV(pipe_rf,\n",
    "            rf_param_dist,\n",
    "            scoring=score_fn,\n",
    "            random_state=MySeed,\n",
    "            cv=Mycv,\n",
    "            n_iter=30,\n",
    "            n_jobs=jobs)\n",
    "\n",
    "gs_nn = RandomizedSearchCV(pipe_nn,\n",
    "            nn_param_dist,\n",
    "            scoring=score_fn,\n",
    "            random_state=MySeed,\n",
    "            cv=Mycv,\n",
    "            n_iter=30,\n",
    "            n_jobs=jobs)\n",
    "\n",
    "\n",
    "# Dictionary of 'model name' : modelPipeline\n",
    "grids = {\n",
    "     #    'Logistic Regression' : gs_lr, \n",
    "    #  'Logistic Regression w PCA' : gs_lr_pca,\n",
    "         'Random Forest' : gs_rf,\n",
    "     #    'Random Forest w PCA' : gs_rf_pca,\n",
    "         'Neural Network': gs_nn\n",
    "        }\n",
    "\n",
    "best_models = dict()\n",
    "cv_results = dict()\n",
    "for model_name, gs in grids.items():\n",
    "    print('\\nEstimator: %s' % model_name)\n",
    "    start = time.time()\n",
    "    \n",
    "    # Fit grid search:\n",
    "    gs.fit(X_train, y_train)\n",
    "    \n",
    "    # Best parameters:\n",
    "    print('Best parameters: %s' % gs.best_params_)\n",
    "    \n",
    "    # Best training data accuracy:\n",
    "    # Average of all cross validation score (\"folds\") of the best estimator\n",
    "    # for a single combination of the parameters you specify in the tuned_params\n",
    "    print('Kfold CV Mean Brier Score Loss: %.3f' % abs(gs.best_score_))\n",
    "    \n",
    "    print('Brier Score on Training Data: %.3f' % brier_score_loss(y_train,gs.predict_proba(X_train)[:,1]))\n",
    "    best_models[model_name] = gs.best_estimator_\n",
    "    cv_results[model_name] = gs.cv_results_\n",
    "\n",
    "    # Predict on test data with best parameters:\n",
    "    y_pred = gs.predict(X_test)\n",
    "    y_prob = gs.predict_proba(X_test)[:,1] # extract probabilities for y=1 (match)\n",
    "    \n",
    "    # Test data accuracy of model with best parameters:\n",
    "    print('Test data accuracy: %.3f ' % accuracy_score(y_test, y_pred))\n",
    "    print('Test brier score: %.3f' % brier_score_loss(y_test, y_prob))\n",
    "    # Precision, Recall and F1:\n",
    "    print('Precision, recall & f1-score:\\n',classification_report(y_test, y_pred))\n",
    "    print('runtime: %s'%(time.time()-start))"
   ]
  },
  {
   "cell_type": "code",
   "execution_count": 11,
   "metadata": {},
   "outputs": [],
   "source": [
    "## Save Models"
   ]
  },
  {
   "cell_type": "code",
   "execution_count": 12,
   "metadata": {},
   "outputs": [],
   "source": [
    "import pickle\n",
    "pickle.dump(best_models['Neural Network'], open('NN.pickle', 'wb'))\n",
    "pickle.dump(best_models['Random Forest'], open('RF.pickle', 'wb'))"
   ]
  },
  {
   "cell_type": "code",
   "execution_count": 8,
   "metadata": {},
   "outputs": [],
   "source": [
    "imp_features = pd.DataFrame()\n",
    "imp_features['Feature'] = X_train.columns.values.tolist()\n",
    "imp_features['Importance'] = best_models['Random Forest'].named_steps['clf'].feature_importances_.tolist()\n",
    "imp_features.sort_values('Importance',ascending=False,inplace=True)"
   ]
  },
  {
   "cell_type": "code",
   "execution_count": 9,
   "metadata": {},
   "outputs": [
    {
     "data": {
      "text/html": [
       "<div>\n",
       "<style scoped>\n",
       "    .dataframe tbody tr th:only-of-type {\n",
       "        vertical-align: middle;\n",
       "    }\n",
       "\n",
       "    .dataframe tbody tr th {\n",
       "        vertical-align: top;\n",
       "    }\n",
       "\n",
       "    .dataframe thead th {\n",
       "        text-align: right;\n",
       "    }\n",
       "</style>\n",
       "<table border=\"1\" class=\"dataframe\">\n",
       "  <thead>\n",
       "    <tr style=\"text-align: right;\">\n",
       "      <th></th>\n",
       "      <th>Feature</th>\n",
       "      <th>Importance</th>\n",
       "    </tr>\n",
       "  </thead>\n",
       "  <tbody>\n",
       "    <tr>\n",
       "      <td>1</td>\n",
       "      <td>fare</td>\n",
       "      <td>0.592487</td>\n",
       "    </tr>\n",
       "    <tr>\n",
       "      <td>0</td>\n",
       "      <td>adult_male</td>\n",
       "      <td>0.379428</td>\n",
       "    </tr>\n",
       "    <tr>\n",
       "      <td>2</td>\n",
       "      <td>alone</td>\n",
       "      <td>0.028086</td>\n",
       "    </tr>\n",
       "  </tbody>\n",
       "</table>\n",
       "</div>"
      ],
      "text/plain": [
       "      Feature  Importance\n",
       "1        fare    0.592487\n",
       "0  adult_male    0.379428\n",
       "2       alone    0.028086"
      ]
     },
     "execution_count": 9,
     "metadata": {},
     "output_type": "execute_result"
    }
   ],
   "source": [
    "imp_features"
   ]
  },
  {
   "cell_type": "code",
   "execution_count": 10,
   "metadata": {},
   "outputs": [],
   "source": [
    "def cv_results_summary(CVResults,model_name):\n",
    "    CompareCVResults = pd.DataFrame()\n",
    "    CompareCVResults['Score Rank'] = CVResults['rank_test_score'].tolist()\n",
    "    CompareCVResults['Model Name'] = model_name\n",
    " #   CompareCVResults['Hidden Layer'] = CVResults['param_clf__hidden_layer_sizes'].tolist()\n",
    "    CompareCVResults['params'] = CVResults['params']\n",
    "    CompareCVResults['Mean Test Score'] = [ abs(score) for score in CVResults['mean_test_score'].tolist() ]\n",
    " #   CompareCVResults['L2'] = CVResults['param_clf__alpha']\n",
    "    CompareCVResults['Mean Fit Time'] = CVResults['mean_fit_time']\n",
    "    CompareCVResults.sort_values('Mean Test Score',ascending=True,inplace=True)\n",
    "    return(CompareCVResults)\n",
    "\n",
    "all_cv_results = pd.concat([cv_results_summary(cv_results[model_name],model_name) for model_name in cv_results]).\\\n",
    "    sort_values('Mean Test Score')"
   ]
  },
  {
   "cell_type": "code",
   "execution_count": 11,
   "metadata": {},
   "outputs": [
    {
     "data": {
      "text/html": [
       "<div>\n",
       "<style scoped>\n",
       "    .dataframe tbody tr th:only-of-type {\n",
       "        vertical-align: middle;\n",
       "    }\n",
       "\n",
       "    .dataframe tbody tr th {\n",
       "        vertical-align: top;\n",
       "    }\n",
       "\n",
       "    .dataframe thead th {\n",
       "        text-align: right;\n",
       "    }\n",
       "</style>\n",
       "<table border=\"1\" class=\"dataframe\">\n",
       "  <thead>\n",
       "    <tr style=\"text-align: right;\">\n",
       "      <th></th>\n",
       "      <th>Score Rank</th>\n",
       "      <th>Model Name</th>\n",
       "      <th>params</th>\n",
       "      <th>Mean Test Score</th>\n",
       "      <th>Mean Fit Time</th>\n",
       "    </tr>\n",
       "  </thead>\n",
       "  <tbody>\n",
       "    <tr>\n",
       "      <td>24</td>\n",
       "      <td>27</td>\n",
       "      <td>Random Forest</td>\n",
       "      <td>{'clf__criterion': 'gini', 'clf__max_depth': 1, 'clf__max_features': 'sqrt', 'clf__min_samples_split': 6}</td>\n",
       "      <td>0.182798</td>\n",
       "      <td>0.122743</td>\n",
       "    </tr>\n",
       "    <tr>\n",
       "      <td>4</td>\n",
       "      <td>14</td>\n",
       "      <td>Random Forest</td>\n",
       "      <td>{'clf__criterion': 'entropy', 'clf__max_depth': 8, 'clf__max_features': 'sqrt', 'clf__min_samples_split': 3}</td>\n",
       "      <td>0.144903</td>\n",
       "      <td>0.140536</td>\n",
       "    </tr>\n",
       "    <tr>\n",
       "      <td>15</td>\n",
       "      <td>30</td>\n",
       "      <td>Neural Network</td>\n",
       "      <td>{'clf__alpha': 0.9832308858067882, 'clf__hidden_layer_sizes': (1,)}</td>\n",
       "      <td>0.213813</td>\n",
       "      <td>0.409822</td>\n",
       "    </tr>\n",
       "    <tr>\n",
       "      <td>23</td>\n",
       "      <td>27</td>\n",
       "      <td>Random Forest</td>\n",
       "      <td>{'clf__criterion': 'gini', 'clf__max_depth': 1, 'clf__max_features': 'log2', 'clf__min_samples_split': 4}</td>\n",
       "      <td>0.182798</td>\n",
       "      <td>0.124231</td>\n",
       "    </tr>\n",
       "    <tr>\n",
       "      <td>25</td>\n",
       "      <td>9</td>\n",
       "      <td>Random Forest</td>\n",
       "      <td>{'clf__criterion': 'entropy', 'clf__max_depth': 7, 'clf__max_features': 'log2', 'clf__min_samples_split': 10}</td>\n",
       "      <td>0.143928</td>\n",
       "      <td>0.147869</td>\n",
       "    </tr>\n",
       "  </tbody>\n",
       "</table>\n",
       "</div>"
      ],
      "text/plain": [
       "    Score Rank      Model Name  \\\n",
       "24          27   Random Forest   \n",
       "4           14   Random Forest   \n",
       "15          30  Neural Network   \n",
       "23          27   Random Forest   \n",
       "25           9   Random Forest   \n",
       "\n",
       "                                                                                                           params  \\\n",
       "24      {'clf__criterion': 'gini', 'clf__max_depth': 1, 'clf__max_features': 'sqrt', 'clf__min_samples_split': 6}   \n",
       "4    {'clf__criterion': 'entropy', 'clf__max_depth': 8, 'clf__max_features': 'sqrt', 'clf__min_samples_split': 3}   \n",
       "15                                            {'clf__alpha': 0.9832308858067882, 'clf__hidden_layer_sizes': (1,)}   \n",
       "23      {'clf__criterion': 'gini', 'clf__max_depth': 1, 'clf__max_features': 'log2', 'clf__min_samples_split': 4}   \n",
       "25  {'clf__criterion': 'entropy', 'clf__max_depth': 7, 'clf__max_features': 'log2', 'clf__min_samples_split': 10}   \n",
       "\n",
       "    Mean Test Score  Mean Fit Time  \n",
       "24         0.182798       0.122743  \n",
       "4          0.144903       0.140536  \n",
       "15         0.213813       0.409822  \n",
       "23         0.182798       0.124231  \n",
       "25         0.143928       0.147869  "
      ]
     },
     "execution_count": 11,
     "metadata": {},
     "output_type": "execute_result"
    }
   ],
   "source": [
    "pd.set_option('display.max_colwidth', 200)\n",
    "all_cv_results.sample(5)"
   ]
  },
  {
   "cell_type": "code",
   "execution_count": 12,
   "metadata": {},
   "outputs": [],
   "source": [
    "# Calculate lift and associated metrics\n",
    "def calculate_lift(model,model_name):\n",
    "    lift_curve_pd = pd.DataFrame({\n",
    "    'prob' : model.predict_proba(X_test)[:,1],\n",
    "    'pred' : model.predict(X_test),\n",
    "    'truth' : y_test\n",
    "    }).sort_values('prob',ascending=False).reset_index(drop=True)\n",
    "    lift_curve_pd['model'] = model_name\n",
    "    lift_curve_pd['cum_truth'] = lift_curve_pd['truth'].cumsum()\n",
    "    lift_curve_pd['percentile'] = (lift_curve_pd.index+1)/len(lift_curve_pd)\n",
    "    lift_curve_pd['capture_percent'] = lift_curve_pd['cum_truth'] / lift_curve_pd['cum_truth'].max()\n",
    "    lift_curve_pd['lift']  = lift_curve_pd['cum_truth'] / \\\n",
    "       (lift_curve_pd['percentile']*lift_curve_pd['cum_truth'].max())\n",
    "    return(lift_curve_pd)\n",
    "\n",
    "all_lifts = pd.concat([calculate_lift(best_models[model_name],model_name) for model_name in grids])"
   ]
  },
  {
   "cell_type": "code",
   "execution_count": 13,
   "metadata": {},
   "outputs": [],
   "source": [
    "# Extract Lift at Specific Junctions\n",
    "def summarize_lifts(df):\n",
    "    # Which percentiles we want to return\n",
    "    x_range = np.arange(0.1,0.51,0.1)\n",
    "    \n",
    "    # Interpolate to find the row that is closest to each percentile\n",
    "    q = df[[\"model\",\"percentile\"]].groupby('model').quantile(x_range, interpolation = 'nearest').reset_index()\n",
    "    df_summ = df.merge(q,on=['model','percentile'],how='inner').\\\n",
    "       pivot(index='level_1',columns='model',values='lift')\n",
    "    df_summ.columns.name =''\n",
    "    df_summ.reset_index(inplace=True)\n",
    "    df_summ.rename(columns={'level_1':'Percentile'},inplace=True)\n",
    "    return(df_summ)\n",
    "\n",
    "all_lifts_summ = summarize_lifts(all_lifts)"
   ]
  },
  {
   "cell_type": "code",
   "execution_count": 15,
   "metadata": {},
   "outputs": [
    {
     "data": {
      "image/png": "[encoded data removed]",
      "text/plain": [
       "<Figure size 432x288 with 1 Axes>"
      ]
     },
     "metadata": {
      "needs_background": "light"
     },
     "output_type": "display_data"
    }
   ],
   "source": [
    "import seaborn as sns\n",
    "import matplotlib.pyplot as plt\n",
    "from matplotlib.ticker import FuncFormatter\n",
    "ax =sns.lineplot(data=all_lifts,x=\"percentile\",y=\"lift\",hue='model')\n",
    "# delete legend title and position legend outside graph\n",
    "Null, labels = ax.get_legend_handles_labels() \n",
    "ax.legend(labels=labels[1:],loc=9, bbox_to_anchor=(0.5, -0.15))\n",
    "ax.xaxis.set_major_formatter(FuncFormatter('{0:.0%}'.format))\n",
    "plt.ylabel('Lift')\n",
    "plt.xlabel('Percent Selected')\n",
    "plt.xlim([0,1])\n",
    "plt.ylim()\n",
    "plt.show()"
   ]
  },
  {
   "cell_type": "code",
   "execution_count": 16,
   "metadata": {},
   "outputs": [
    {
     "data": {
      "text/plain": [
       "[('scaler', MinMaxScaler(copy=True, feature_range=(0, 1))),\n",
       " ('clf',\n",
       "  MLPClassifier(activation='relu', alpha=0.020584494295802447, batch_size='auto',\n",
       "                beta_1=0.9, beta_2=0.999, early_stopping=False, epsilon=1e-08,\n",
       "                hidden_layer_sizes=(3,), learning_rate='constant',\n",
       "                learning_rate_init=0.001, max_iter=300, momentum=0.9,\n",
       "                n_iter_no_change=10, nesterovs_momentum=True, power_t=0.5,\n",
       "                random_state=42, shuffle=True, solver='adam', tol=0.0001,\n",
       "                validation_fraction=0.1, verbose=False, warm_start=False))]"
      ]
     },
     "execution_count": 16,
     "metadata": {},
     "output_type": "execute_result"
    }
   ],
   "source": [
    "best_models['Neural Network'].get_params().pop('steps')"
   ]
  },
  {
   "cell_type": "code",
   "execution_count": null,
   "metadata": {},
   "outputs": [],
   "source": []
  }
 ],
 "metadata": {
  "kernelspec": {
   "display_name": "Python 3",
   "language": "python",
   "name": "python3"
  },
  "language_info": {
   "codemirror_mode": {
    "name": "ipython",
    "version": 3
   },
   "file_extension": ".py",
   "mimetype": "text/x-python",
   "name": "python",
   "nbconvert_exporter": "python",
   "pygments_lexer": "ipython3",
   "version": "3.7.4"
  }
 },
 "nbformat": 4,
 "nbformat_minor": 2
}

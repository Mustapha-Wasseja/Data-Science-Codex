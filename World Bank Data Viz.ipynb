{
 "cells": [
  {
   "cell_type": "code",
   "execution_count": 2,
   "metadata": {},
   "outputs": [],
   "source": [
    "\n",
    "# Set Repo Mirror\n",
    "local({\n",
    "  r <- getOption(\"repos\")\n",
    "  r[\"CRAN\"] <- \"http://archive.linux.duke.edu/cran/\"\n",
    "  options(repos = r)\n",
    "})"
   ]
  },
  {
   "cell_type": "code",
   "execution_count": 3,
   "metadata": {},
   "outputs": [
    {
     "name": "stdout",
     "output_type": "stream",
     "text": [
      "package 'wbstats' successfully unpacked and MD5 sums checked\n",
      "\n",
      "The downloaded binary packages are in\n",
      "\tC:\\Users\\595559\\AppData\\Local\\Temp\\RtmpEFeg4r\\downloaded_packages\n"
     ]
    }
   ],
   "source": [
    "install.packages('wbstats')"
   ]
  },
  {
   "cell_type": "code",
   "execution_count": 27,
   "metadata": {},
   "outputs": [
    {
     "name": "stdout",
     "output_type": "stream",
     "text": [
      "List of 7\n",
      " $ countries  :'data.frame':\t304 obs. of  18 variables:\n",
      " $ indicators :'data.frame':\t16978 obs. of  7 variables:\n",
      " $ sources    :'data.frame':\t43 obs. of  8 variables:\n",
      " $ datacatalog:'data.frame':\t238 obs. of  29 variables:\n",
      " $ topics     :'data.frame':\t21 obs. of  3 variables:\n",
      " $ income     :'data.frame':\t7 obs. of  3 variables:\n",
      " $ lending    :'data.frame':\t4 obs. of  3 variables:\n"
     ]
    }
   ],
   "source": [
    "#https://cran.r-project.org/web/packages/wbstats/vignettes/Using_the_wbstats_package.html\n",
    "library(wbstats)\n",
    "library(ggplot2)\n",
    "\n",
    "\n",
    "str(wb_cachelist, max.level = 1)"
   ]
  },
  {
   "cell_type": "code",
   "execution_count": 42,
   "metadata": {},
   "outputs": [
    {
     "name": "stdout",
     "output_type": "stream",
     "text": [
      "[1] \"Crude oil, Dubai\"     \"Crude oil, Brendt\"    \"Crude oil, WTI\"      \n",
      "[4] \"Crude oil, avg, spot\"\n",
      "[1] \"Crude oil, Dubai, $/bbl, nominal$\"    \n",
      "[2] \"Crude oil, Brendt, $/bbl, nominal$\"   \n",
      "[3] \"Crude oil, WTI, $/bbl, nominal$\"      \n",
      "[4] \"Crude oil, avg, spot, $/bbl, nominal$\"\n"
     ]
    }
   ],
   "source": [
    "# Import Oil Data and Add Indicator\n",
    "\n",
    "oil_data <- wb(indicator = c(\"CRUDE_DUBAI\", \"CRUDE_BRENT\", \"CRUDE_WTI\", \"CRUDE_PETRO\"),\n",
    "               startdate = \"2012M01\", enddate = \"2014M12\", freq = \"M\", POSIXct = TRUE)\n",
    "\n",
    "oil_data$indicator_stripped = gsub(\", \\\\$/bbl, nominal\\\\$\", \"\", oil_data$indicator)\n",
    "\n",
    "print(unique(oil_data$indicator_stripped))\n",
    "print(unique(oil_data$indicator))\n",
    "#print(summary(oil_data))\n",
    "#print(head(oil_data))"
   ]
  },
  {
   "cell_type": "code",
   "execution_count": 55,
   "metadata": {},
   "outputs": [
    {
     "ename": "ERROR",
     "evalue": "Error in (function (el, elname) : Element legend.title must be a element_text object.\n",
     "output_type": "error",
     "traceback": [
      "Error in (function (el, elname) : Element legend.title must be a element_text object.\nTraceback:\n",
      "1. theme(legend.position = \"top\", legend.title = \"Indicator\")",
      "2. mapply(validate_element, elements, names(elements))",
      "3. (function (el, elname) \n . {\n .     eldef <- .element_tree[[elname]]\n .     if (is.null(eldef)) {\n .         stop(\"\\\"\", elname, \"\\\" is not a valid theme element name.\")\n .     }\n .     if (is.null(el)) \n .         return()\n .     if (eldef$class == \"character\") {\n .         if (!is.character(el) && !is.numeric(el)) \n .             stop(\"Element \", elname, \" must be a string or numeric vector.\")\n .     }\n .     else if (eldef$class == \"margin\") {\n .         if (!is.unit(el) && length(el) == 4) \n .             stop(\"Element \", elname, \" must be a unit vector of length 4.\")\n .     }\n .     else if (!inherits(el, eldef$class) && !inherits(el, \"element_blank\")) {\n .         stop(\"Element \", elname, \" must be a \", eldef$class, \n .             \" object.\")\n .     }\n .     invisible()\n . })(dots[[1L]][[1L]], dots[[2L]][[1L]])",
      "4. stop(\"Element \", elname, \" must be a \", eldef$class, \" object.\")"
     ]
    }
   ],
   "source": [
    "\n",
    "ggplot(oil_data, aes(x = date_ct, y = value, colour = indicator_stripped)) + geom_line(size = 1) +\n",
    "  labs(title = \"Crude Oil Price Comparisons\", x = \"Date\", y = \"US Dollars\") + theme_classic() +\n",
    "theme(legend.position='top',legend.title='Indicator') + \n",
    "scale_y_continuous(labels = scales::dollar,limits=c(50,140))\n"
   ]
  },
  {
   "cell_type": "code",
   "execution_count": 51,
   "metadata": {},
   "outputs": [
    {
     "data": {},
     "metadata": {},
     "output_type": "display_data"
    },
    {
     "data": {
      "image/png": "[encoded data removed]",
      "text/plain": [
       "plot without title"
      ]
     },
     "metadata": {},
     "output_type": "display_data"
    }
   ],
   "source": [
    "# querying seperate for differing time coverage example\n",
    "gold_data <- wb(indicator = \"GOLD\", mrv = 120, freq = \"M\", POSIXct = TRUE)\n",
    "plat_data <- wb(indicator = \"PLATINUM\", mrv = 60, freq = \"M\", POSIXct = TRUE)\n",
    "\n",
    "metal_data <- rbind(gold_data, plat_data)\n",
    "\n",
    "ggplot(metal_data, aes(x = date_ct, y = value, colour = indicator)) + geom_line(size = 1) +\n",
    "  labs(title = \"Precious Metal Prices\", x = \"Date\", y = \"US Dollars\") + theme_classic() + theme(legend.position='top') + scale_y_continuous(labels = scales::dollar)"
   ]
  },
  {
   "cell_type": "code",
   "execution_count": null,
   "metadata": {},
   "outputs": [],
   "source": []
  }
 ],
 "metadata": {
  "kernelspec": {
   "display_name": "R",
   "language": "R",
   "name": "ir"
  },
  "language_info": {
   "codemirror_mode": "r",
   "file_extension": ".r",
   "mimetype": "text/x-r-source",
   "name": "R",
   "pygments_lexer": "r",
   "version": "3.4.2"
  }
 },
 "nbformat": 4,
 "nbformat_minor": 2
}
